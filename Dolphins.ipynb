{
 "cells": [
  {
   "cell_type": "code",
   "execution_count": 2,
   "id": "f197e69c",
   "metadata": {},
   "outputs": [],
   "source": [
    "import numpy as np\n",
    "import pandas as pd\n",
    "import os\n",
    "import matplotlib.pyplot as plt\n",
    "import cv2\n",
    "import timm\n",
    "\n",
    "import torch\n",
    "from tqdm.notebook import tqdm\n",
    "from torch import nn,optim\n",
    "import torch.nn.functional as F\n",
    "from torch.utils.data import Dataset,DataLoader\n",
    "from torchvision import transforms\n",
    "from torchvision.utils import make_grid\n",
    "import albumentations as A\n",
    "from albumentations.pytorch import ToTensorV2\n",
    "import torch.optim as optim\n",
    "\n",
    "from sklearn.metrics import classification_report\n",
    "from sklearn.model_selection import train_test_split\n",
    "from sklearn.preprocessing import LabelEncoder, OneHotEncoder\n",
    "from sklearn.metrics import confusion_matrix\n",
    "import matplotlib.pyplot as plt\n",
    "%matplotlib inline"
   ]
  },
  {
   "cell_type": "code",
   "execution_count": 3,
   "id": "f005f814",
   "metadata": {},
   "outputs": [],
   "source": [
    "device = torch.device(\"cuda\" if torch.cuda.is_available else \"cpu\")"
   ]
  },
  {
   "cell_type": "code",
   "execution_count": 4,
   "id": "70c52b9b",
   "metadata": {},
   "outputs": [],
   "source": [
    "root_dir = \"Y:\\Python\\Datasets\\Whales\\\\train_images\"\n",
    "path = os.listdir(root_dir)"
   ]
  },
  {
   "cell_type": "code",
   "execution_count": 5,
   "id": "318bc4cd",
   "metadata": {},
   "outputs": [],
   "source": [
    "df = pd.read_csv(r\"Y:\\Python\\Datasets\\Whales\\train.csv\")\n",
    "target = df.species\n",
    "data = df.image\n",
    "id_ = df.individual_id\n",
    "class_list = [i for i in df.species]\n",
    "num_classes = len(set(class_list))"
   ]
  },
  {
   "cell_type": "code",
   "execution_count": 6,
   "id": "39f03369",
   "metadata": {},
   "outputs": [],
   "source": [
    "df1 = df.individual_id.unique"
   ]
  },
  {
   "cell_type": "code",
   "execution_count": 7,
   "id": "87127919",
   "metadata": {},
   "outputs": [],
   "source": [
    "species_name = [i for i in set(class_list)]\n",
    "species_index = [i for i in range(30)]\n",
    "whale_dict = {species_name[i]: species_index[i] for i in range(len(species_name))}\n",
    "\n",
    "all_y = []\n",
    "for i in target:\n",
    "    for key, value in whale_dict.items():\n",
    "        if i == key:\n",
    "            all_y.append(value)"
   ]
  },
  {
   "cell_type": "code",
   "execution_count": 8,
   "id": "e7b6e1e2",
   "metadata": {},
   "outputs": [],
   "source": [
    "all_class_list = []\n",
    "for i in df.species:\n",
    "    for key, value in whale_dict.items():\n",
    "        if key == i:\n",
    "            all_class_list.append(value)"
   ]
  },
  {
   "cell_type": "code",
   "execution_count": 9,
   "id": "b984c871",
   "metadata": {},
   "outputs": [],
   "source": [
    "df[\"class_id\"] = all_class_list"
   ]
  },
  {
   "cell_type": "code",
   "execution_count": 10,
   "id": "a4af16c8",
   "metadata": {},
   "outputs": [],
   "source": [
    "all_y = np.array(all_y)\n",
    "all_X = []\n",
    "img_list = [x for x in path]\n",
    "for filename in path:\n",
    "    all_X.append(os.path.join(root_dir, filename))"
   ]
  },
  {
   "cell_type": "code",
   "execution_count": 11,
   "id": "759cee80",
   "metadata": {},
   "outputs": [],
   "source": [
    "train_df, test_df = train_test_split(df, stratify = df.class_id, random_state = 666)"
   ]
  },
  {
   "cell_type": "code",
   "execution_count": 12,
   "id": "3b33f2d3",
   "metadata": {},
   "outputs": [
    {
     "data": {
      "text/html": [
       "<div>\n",
       "<style scoped>\n",
       "    .dataframe tbody tr th:only-of-type {\n",
       "        vertical-align: middle;\n",
       "    }\n",
       "\n",
       "    .dataframe tbody tr th {\n",
       "        vertical-align: top;\n",
       "    }\n",
       "\n",
       "    .dataframe thead th {\n",
       "        text-align: right;\n",
       "    }\n",
       "</style>\n",
       "<table border=\"1\" class=\"dataframe\">\n",
       "  <thead>\n",
       "    <tr style=\"text-align: right;\">\n",
       "      <th></th>\n",
       "      <th>image</th>\n",
       "      <th>species</th>\n",
       "      <th>individual_id</th>\n",
       "      <th>class_id</th>\n",
       "    </tr>\n",
       "  </thead>\n",
       "  <tbody>\n",
       "    <tr>\n",
       "      <th>38738</th>\n",
       "      <td>c2a200933da5cc.jpg</td>\n",
       "      <td>bottlenose_dolphin</td>\n",
       "      <td>599bf01ce321</td>\n",
       "      <td>13</td>\n",
       "    </tr>\n",
       "    <tr>\n",
       "      <th>2939</th>\n",
       "      <td>0ee1fac5cdf8b4.jpg</td>\n",
       "      <td>blue_whale</td>\n",
       "      <td>e47303f9fb11</td>\n",
       "      <td>27</td>\n",
       "    </tr>\n",
       "    <tr>\n",
       "      <th>12856</th>\n",
       "      <td>40cc2b309e8f9c.jpg</td>\n",
       "      <td>fin_whale</td>\n",
       "      <td>f3d9d1f9eece</td>\n",
       "      <td>29</td>\n",
       "    </tr>\n",
       "    <tr>\n",
       "      <th>28755</th>\n",
       "      <td>90d92013420d8a.jpg</td>\n",
       "      <td>beluga</td>\n",
       "      <td>dba4e482f0ad</td>\n",
       "      <td>23</td>\n",
       "    </tr>\n",
       "    <tr>\n",
       "      <th>19607</th>\n",
       "      <td>62ea8e33250e59.jpg</td>\n",
       "      <td>fin_whale</td>\n",
       "      <td>ceb953072484</td>\n",
       "      <td>29</td>\n",
       "    </tr>\n",
       "    <tr>\n",
       "      <th>...</th>\n",
       "      <td>...</td>\n",
       "      <td>...</td>\n",
       "      <td>...</td>\n",
       "      <td>...</td>\n",
       "    </tr>\n",
       "    <tr>\n",
       "      <th>5506</th>\n",
       "      <td>1b8badc12da97c.jpg</td>\n",
       "      <td>bottlenose_dolpin</td>\n",
       "      <td>7b0ef9435d31</td>\n",
       "      <td>18</td>\n",
       "    </tr>\n",
       "    <tr>\n",
       "      <th>3355</th>\n",
       "      <td>10fec58dce99f5.jpg</td>\n",
       "      <td>bottlenose_dolphin</td>\n",
       "      <td>30ca1c6cb592</td>\n",
       "      <td>13</td>\n",
       "    </tr>\n",
       "    <tr>\n",
       "      <th>38417</th>\n",
       "      <td>c0f9a535b4be6a.jpg</td>\n",
       "      <td>fin_whale</td>\n",
       "      <td>87a3edd9e541</td>\n",
       "      <td>29</td>\n",
       "    </tr>\n",
       "    <tr>\n",
       "      <th>9902</th>\n",
       "      <td>31d34a240eead8.jpg</td>\n",
       "      <td>minke_whale</td>\n",
       "      <td>53741c7362b8</td>\n",
       "      <td>17</td>\n",
       "    </tr>\n",
       "    <tr>\n",
       "      <th>35365</th>\n",
       "      <td>b197673786d983.jpg</td>\n",
       "      <td>humpback_whale</td>\n",
       "      <td>027ac44f5b33</td>\n",
       "      <td>7</td>\n",
       "    </tr>\n",
       "  </tbody>\n",
       "</table>\n",
       "<p>38274 rows × 4 columns</p>\n",
       "</div>"
      ],
      "text/plain": [
       "                    image             species individual_id  class_id\n",
       "38738  c2a200933da5cc.jpg  bottlenose_dolphin  599bf01ce321        13\n",
       "2939   0ee1fac5cdf8b4.jpg          blue_whale  e47303f9fb11        27\n",
       "12856  40cc2b309e8f9c.jpg           fin_whale  f3d9d1f9eece        29\n",
       "28755  90d92013420d8a.jpg              beluga  dba4e482f0ad        23\n",
       "19607  62ea8e33250e59.jpg           fin_whale  ceb953072484        29\n",
       "...                   ...                 ...           ...       ...\n",
       "5506   1b8badc12da97c.jpg   bottlenose_dolpin  7b0ef9435d31        18\n",
       "3355   10fec58dce99f5.jpg  bottlenose_dolphin  30ca1c6cb592        13\n",
       "38417  c0f9a535b4be6a.jpg           fin_whale  87a3edd9e541        29\n",
       "9902   31d34a240eead8.jpg         minke_whale  53741c7362b8        17\n",
       "35365  b197673786d983.jpg      humpback_whale  027ac44f5b33         7\n",
       "\n",
       "[38274 rows x 4 columns]"
      ]
     },
     "execution_count": 12,
     "metadata": {},
     "output_type": "execute_result"
    }
   ],
   "source": [
    "train_df"
   ]
  },
  {
   "cell_type": "code",
   "execution_count": 11,
   "id": "38cd5680",
   "metadata": {},
   "outputs": [],
   "source": [
    "#np.unique(train_y).shape"
   ]
  },
  {
   "cell_type": "code",
   "execution_count": 12,
   "id": "611d70ad",
   "metadata": {},
   "outputs": [],
   "source": [
    "def data_augment():\n",
    "    augmented_data = A.Compose([\n",
    "                            A.Resize(256,256),\n",
    "                            A.Normalize(),\n",
    "                            ToTensorV2()\n",
    "    ])\n",
    "    \n",
    "    return augmented_data"
   ]
  },
  {
   "cell_type": "code",
   "execution_count": 13,
   "id": "545166b6",
   "metadata": {},
   "outputs": [],
   "source": [
    "class WhaleSet(Dataset):\n",
    "    def __init__(self, root_dir, df, transform = None):\n",
    "        super().__init__()\n",
    "        self.root_dir = root_dir\n",
    "        self.df = df\n",
    "        self.transform = transform\n",
    "        \n",
    "    def __len__(self):\n",
    "        return len(self.df)\n",
    "        \n",
    "    def __getitem__(self, idx):\n",
    "        target = self.df.iloc[idx].class_id\n",
    "        image = cv2.imread(os.path.join(self.root_dir, self.df.iloc[idx].image))\n",
    "        if self.transform is not None:\n",
    "            image = self.transform(image=image)[\"image\"]\n",
    "\n",
    "        return image, target"
   ]
  },
  {
   "cell_type": "code",
   "execution_count": 1,
   "id": "6adc5d34",
   "metadata": {},
   "outputs": [
    {
     "ename": "NameError",
     "evalue": "name 'df' is not defined",
     "output_type": "error",
     "traceback": [
      "\u001b[1;31m---------------------------------------------------------------------------\u001b[0m",
      "\u001b[1;31mNameError\u001b[0m                                 Traceback (most recent call last)",
      "\u001b[1;32m<ipython-input-1-00cf07b74dcd>\u001b[0m in \u001b[0;36m<module>\u001b[1;34m\u001b[0m\n\u001b[1;32m----> 1\u001b[1;33m \u001b[0mdf\u001b[0m\u001b[1;33m\u001b[0m\u001b[1;33m\u001b[0m\u001b[0m\n\u001b[0m",
      "\u001b[1;31mNameError\u001b[0m: name 'df' is not defined"
     ]
    }
   ],
   "source": [
    "df"
   ]
  },
  {
   "cell_type": "code",
   "execution_count": 24,
   "id": "6bc56815",
   "metadata": {},
   "outputs": [],
   "source": [
    "train_dataset = WhaleSet(root_dir, train_df, data_augment())\n",
    "train_loader = DataLoader(train_dataset, batch_size = 2, shuffle = True)\n",
    "\n",
    "test_dataset = WhaleSet(root_dir, test_df, data_augment())\n",
    "test_loader = DataLoader(train_dataset, batch_size = 1)"
   ]
  },
  {
   "cell_type": "code",
   "execution_count": 16,
   "id": "bbefe7e2",
   "metadata": {},
   "outputs": [],
   "source": [
    "model = timm.create_model('tf_efficientnet_b5', num_classes = num_classes, in_chans = 3, pretrained = True)"
   ]
  },
  {
   "cell_type": "code",
   "execution_count": 17,
   "id": "58714631",
   "metadata": {},
   "outputs": [],
   "source": [
    "class FocalLoss(nn.Module):\n",
    "    def __init__(self, alpha=1, gamma=2, reduce=True):\n",
    "        super(FocalLoss, self).__init__()\n",
    "        self.alpha = alpha\n",
    "        self.gamma = gamma\n",
    "        self.reduce = reduce\n",
    "\n",
    "    def forward(self, inputs, targets):\n",
    "        BCE_loss = nn.CrossEntropyLoss()(inputs, targets)\n",
    "\n",
    "        pt = torch.exp(-BCE_loss)\n",
    "        F_loss = self.alpha * (1-pt)**self.gamma * BCE_loss\n",
    "\n",
    "        if self.reduce:\n",
    "            return torch.mean(F_loss)\n",
    "        else:\n",
    "            return F_loss"
   ]
  },
  {
   "cell_type": "code",
   "execution_count": 18,
   "id": "0a24bcbd",
   "metadata": {},
   "outputs": [],
   "source": [
    "loss_fn = FocalLoss().to(device)\n",
    "optimizer = torch.optim.Adam(model.parameters())\n",
    "num_epochs = 300"
   ]
  },
  {
   "cell_type": "code",
   "execution_count": 19,
   "id": "6498df35",
   "metadata": {},
   "outputs": [],
   "source": [
    "from torch.utils.tensorboard import SummaryWriter"
   ]
  },
  {
   "cell_type": "code",
   "execution_count": 20,
   "id": "d54bfce5",
   "metadata": {},
   "outputs": [],
   "source": [
    "#writer = SummaryWriter('Y:\\\\Python\\\\Experiments\\\\dolf_1')"
   ]
  },
  {
   "cell_type": "code",
   "execution_count": 21,
   "id": "16776097",
   "metadata": {
    "scrolled": true
   },
   "outputs": [
    {
     "data": {
      "application/vnd.jupyter.widget-view+json": {
       "model_id": "9b6431ec542b4c76b19b2b859b285b23",
       "version_major": 2,
       "version_minor": 0
      },
      "text/plain": [
       "  0%|          | 0/19137 [00:00<?, ?it/s]"
      ]
     },
     "metadata": {},
     "output_type": "display_data"
    },
    {
     "name": "stderr",
     "output_type": "stream",
     "text": [
      "c:\\users\\admin\\appdata\\local\\programs\\python\\python36\\lib\\site-packages\\ipykernel_launcher.py:12: UserWarning: To copy construct from a tensor, it is recommended to use sourceTensor.clone().detach() or sourceTensor.clone().detach().requires_grad_(True), rather than torch.tensor(sourceTensor).\n",
      "  if sys.path[0] == '':\n",
      "c:\\users\\admin\\appdata\\local\\programs\\python\\python36\\lib\\site-packages\\ipykernel_launcher.py:13: UserWarning: To copy construct from a tensor, it is recommended to use sourceTensor.clone().detach() or sourceTensor.clone().detach().requires_grad_(True), rather than torch.tensor(sourceTensor).\n",
      "  del sys.path[0]\n"
     ]
    },
    {
     "data": {
      "application/vnd.jupyter.widget-view+json": {
       "model_id": "68e6a4c7bc314250bf217482f4703a2f",
       "version_major": 2,
       "version_minor": 0
      },
      "text/plain": [
       "  0%|          | 0/19137 [00:00<?, ?it/s]"
      ]
     },
     "metadata": {},
     "output_type": "display_data"
    },
    {
     "name": "stderr",
     "output_type": "stream",
     "text": [
      "c:\\users\\admin\\appdata\\local\\programs\\python\\python36\\lib\\site-packages\\ipykernel_launcher.py:21: UserWarning: To copy construct from a tensor, it is recommended to use sourceTensor.clone().detach() or sourceTensor.clone().detach().requires_grad_(True), rather than torch.tensor(sourceTensor).\n",
      "c:\\users\\admin\\appdata\\local\\programs\\python\\python36\\lib\\site-packages\\ipykernel_launcher.py:22: UserWarning: To copy construct from a tensor, it is recommended to use sourceTensor.clone().detach() or sourceTensor.clone().detach().requires_grad_(True), rather than torch.tensor(sourceTensor).\n"
     ]
    },
    {
     "name": "stdout",
     "output_type": "stream",
     "text": [
      "Epoch:  1\n",
      "train loss:  0.8766444494198878\n",
      "val loss:  0.4850831779856972\n"
     ]
    },
    {
     "data": {
      "application/vnd.jupyter.widget-view+json": {
       "model_id": "19ad941e3905433d8059569f04d7eeac",
       "version_major": 2,
       "version_minor": 0
      },
      "text/plain": [
       "  0%|          | 0/19137 [00:00<?, ?it/s]"
      ]
     },
     "metadata": {},
     "output_type": "display_data"
    },
    {
     "data": {
      "application/vnd.jupyter.widget-view+json": {
       "model_id": "2bd7b7523c9246029913f21a682d0171",
       "version_major": 2,
       "version_minor": 0
      },
      "text/plain": [
       "  0%|          | 0/19137 [00:00<?, ?it/s]"
      ]
     },
     "metadata": {},
     "output_type": "display_data"
    },
    {
     "name": "stdout",
     "output_type": "stream",
     "text": [
      "Epoch:  2\n",
      "train loss:  0.6521001190561252\n",
      "val loss:  0.4423000026190809\n"
     ]
    },
    {
     "data": {
      "application/vnd.jupyter.widget-view+json": {
       "model_id": "efbf05ba4afb45a8afa9fa2d7210951a",
       "version_major": 2,
       "version_minor": 0
      },
      "text/plain": [
       "  0%|          | 0/19137 [00:00<?, ?it/s]"
      ]
     },
     "metadata": {},
     "output_type": "display_data"
    },
    {
     "data": {
      "application/vnd.jupyter.widget-view+json": {
       "model_id": "344142015f464eed95a94a8ee81ca4e0",
       "version_major": 2,
       "version_minor": 0
      },
      "text/plain": [
       "  0%|          | 0/19137 [00:00<?, ?it/s]"
      ]
     },
     "metadata": {},
     "output_type": "display_data"
    },
    {
     "name": "stdout",
     "output_type": "stream",
     "text": [
      "Epoch:  3\n",
      "train loss:  0.5315323477223509\n",
      "val loss:  0.37070903729432925\n"
     ]
    },
    {
     "data": {
      "application/vnd.jupyter.widget-view+json": {
       "model_id": "dcf98181f5d14c2dbc2ab300fe025e45",
       "version_major": 2,
       "version_minor": 0
      },
      "text/plain": [
       "  0%|          | 0/19137 [00:00<?, ?it/s]"
      ]
     },
     "metadata": {},
     "output_type": "display_data"
    },
    {
     "data": {
      "application/vnd.jupyter.widget-view+json": {
       "model_id": "2f48bf556f7d4ef5913c63966b2c096b",
       "version_major": 2,
       "version_minor": 0
      },
      "text/plain": [
       "  0%|          | 0/19137 [00:00<?, ?it/s]"
      ]
     },
     "metadata": {},
     "output_type": "display_data"
    },
    {
     "name": "stdout",
     "output_type": "stream",
     "text": [
      "Epoch:  4\n",
      "train loss:  0.45523701117192206\n",
      "val loss:  0.3223452043814983\n"
     ]
    },
    {
     "data": {
      "application/vnd.jupyter.widget-view+json": {
       "model_id": "89e942f4500b4fb1bff512734f7e4a70",
       "version_major": 2,
       "version_minor": 0
      },
      "text/plain": [
       "  0%|          | 0/19137 [00:00<?, ?it/s]"
      ]
     },
     "metadata": {},
     "output_type": "display_data"
    },
    {
     "data": {
      "application/vnd.jupyter.widget-view+json": {
       "model_id": "ba829e0d0ece414b8e504acb6f297d3e",
       "version_major": 2,
       "version_minor": 0
      },
      "text/plain": [
       "  0%|          | 0/19137 [00:00<?, ?it/s]"
      ]
     },
     "metadata": {},
     "output_type": "display_data"
    },
    {
     "name": "stdout",
     "output_type": "stream",
     "text": [
      "Epoch:  5\n",
      "train loss:  0.40037158254274263\n",
      "val loss:  0.2855071855727473\n"
     ]
    },
    {
     "data": {
      "application/vnd.jupyter.widget-view+json": {
       "model_id": "dfe9eab900a94f79b13ae89b91a45590",
       "version_major": 2,
       "version_minor": 0
      },
      "text/plain": [
       "  0%|          | 0/19137 [00:00<?, ?it/s]"
      ]
     },
     "metadata": {},
     "output_type": "display_data"
    },
    {
     "data": {
      "application/vnd.jupyter.widget-view+json": {
       "model_id": "286f96fd25e6497598287a03dc30f4bd",
       "version_major": 2,
       "version_minor": 0
      },
      "text/plain": [
       "  0%|          | 0/19137 [00:00<?, ?it/s]"
      ]
     },
     "metadata": {},
     "output_type": "display_data"
    },
    {
     "name": "stdout",
     "output_type": "stream",
     "text": [
      "Epoch:  6\n",
      "train loss:  0.3585888563087031\n",
      "val loss:  0.25566388989396416\n"
     ]
    },
    {
     "data": {
      "application/vnd.jupyter.widget-view+json": {
       "model_id": "ecdebe8c62e04107bcd756630c0161ff",
       "version_major": 2,
       "version_minor": 0
      },
      "text/plain": [
       "  0%|          | 0/19137 [00:00<?, ?it/s]"
      ]
     },
     "metadata": {},
     "output_type": "display_data"
    },
    {
     "data": {
      "application/vnd.jupyter.widget-view+json": {
       "model_id": "13d03382a9b1457eaef7989c30379f5f",
       "version_major": 2,
       "version_minor": 0
      },
      "text/plain": [
       "  0%|          | 0/19137 [00:00<?, ?it/s]"
      ]
     },
     "metadata": {},
     "output_type": "display_data"
    },
    {
     "name": "stdout",
     "output_type": "stream",
     "text": [
      "Epoch:  7\n",
      "train loss:  0.3254658823443032\n",
      "val loss:  0.23505807798656958\n"
     ]
    },
    {
     "data": {
      "application/vnd.jupyter.widget-view+json": {
       "model_id": "53bd2636f8eb4118bb3b09ba20856ed4",
       "version_major": 2,
       "version_minor": 0
      },
      "text/plain": [
       "  0%|          | 0/19137 [00:00<?, ?it/s]"
      ]
     },
     "metadata": {},
     "output_type": "display_data"
    },
    {
     "data": {
      "application/vnd.jupyter.widget-view+json": {
       "model_id": "4f5796ced3434b308f405a1d40533678",
       "version_major": 2,
       "version_minor": 0
      },
      "text/plain": [
       "  0%|          | 0/19137 [00:00<?, ?it/s]"
      ]
     },
     "metadata": {},
     "output_type": "display_data"
    },
    {
     "name": "stdout",
     "output_type": "stream",
     "text": [
      "Epoch:  8\n",
      "train loss:  0.2984122161969536\n",
      "val loss:  0.21792406470065637\n"
     ]
    },
    {
     "data": {
      "application/vnd.jupyter.widget-view+json": {
       "model_id": "83ab248dc66249e193eed60acad68e84",
       "version_major": 2,
       "version_minor": 0
      },
      "text/plain": [
       "  0%|          | 0/19137 [00:00<?, ?it/s]"
      ]
     },
     "metadata": {},
     "output_type": "display_data"
    },
    {
     "data": {
      "application/vnd.jupyter.widget-view+json": {
       "model_id": "c1b5f5808d5643e8817cb013d516f4e5",
       "version_major": 2,
       "version_minor": 0
      },
      "text/plain": [
       "  0%|          | 0/19137 [00:00<?, ?it/s]"
      ]
     },
     "metadata": {},
     "output_type": "display_data"
    },
    {
     "name": "stdout",
     "output_type": "stream",
     "text": [
      "Epoch:  9\n",
      "train loss:  0.275810574463637\n",
      "val loss:  0.20171545713802738\n"
     ]
    },
    {
     "data": {
      "application/vnd.jupyter.widget-view+json": {
       "model_id": "df4855eeb6c74d749481f9ffe94f8925",
       "version_major": 2,
       "version_minor": 0
      },
      "text/plain": [
       "  0%|          | 0/19137 [00:00<?, ?it/s]"
      ]
     },
     "metadata": {},
     "output_type": "display_data"
    },
    {
     "data": {
      "application/vnd.jupyter.widget-view+json": {
       "model_id": "15bc5b16db194470bb759fd9c0f3bb0f",
       "version_major": 2,
       "version_minor": 0
      },
      "text/plain": [
       "  0%|          | 0/19137 [00:00<?, ?it/s]"
      ]
     },
     "metadata": {},
     "output_type": "display_data"
    },
    {
     "name": "stdout",
     "output_type": "stream",
     "text": [
      "Epoch:  10\n",
      "train loss:  0.2563945083987344\n",
      "val loss:  0.1886782558059932\n"
     ]
    },
    {
     "data": {
      "application/vnd.jupyter.widget-view+json": {
       "model_id": "7a241bff27324b27a5159f3e80a0e8dc",
       "version_major": 2,
       "version_minor": 0
      },
      "text/plain": [
       "  0%|          | 0/19137 [00:00<?, ?it/s]"
      ]
     },
     "metadata": {},
     "output_type": "display_data"
    },
    {
     "data": {
      "application/vnd.jupyter.widget-view+json": {
       "model_id": "fd71397a38954f59a01b2849f243ea75",
       "version_major": 2,
       "version_minor": 0
      },
      "text/plain": [
       "  0%|          | 0/19137 [00:00<?, ?it/s]"
      ]
     },
     "metadata": {},
     "output_type": "display_data"
    },
    {
     "name": "stdout",
     "output_type": "stream",
     "text": [
      "Epoch:  11\n",
      "train loss:  0.24000440186231628\n",
      "val loss:  0.17629309530028991\n"
     ]
    },
    {
     "data": {
      "application/vnd.jupyter.widget-view+json": {
       "model_id": "8dfe989302414759b4a831eb8320fc85",
       "version_major": 2,
       "version_minor": 0
      },
      "text/plain": [
       "  0%|          | 0/19137 [00:00<?, ?it/s]"
      ]
     },
     "metadata": {},
     "output_type": "display_data"
    },
    {
     "data": {
      "application/vnd.jupyter.widget-view+json": {
       "model_id": "1fce8fe62c9d4f8383e5cbd2a094e1d5",
       "version_major": 2,
       "version_minor": 0
      },
      "text/plain": [
       "  0%|          | 0/19137 [00:00<?, ?it/s]"
      ]
     },
     "metadata": {},
     "output_type": "display_data"
    },
    {
     "name": "stdout",
     "output_type": "stream",
     "text": [
      "Epoch:  12\n",
      "train loss:  0.22556692763815062\n",
      "val loss:  0.16461159158376032\n"
     ]
    },
    {
     "data": {
      "application/vnd.jupyter.widget-view+json": {
       "model_id": "9e18c000fe4549e08b07d5cc7da276e1",
       "version_major": 2,
       "version_minor": 0
      },
      "text/plain": [
       "  0%|          | 0/19137 [00:00<?, ?it/s]"
      ]
     },
     "metadata": {},
     "output_type": "display_data"
    },
    {
     "data": {
      "application/vnd.jupyter.widget-view+json": {
       "model_id": "fb3d978180194a20a6e7f69487c965ea",
       "version_major": 2,
       "version_minor": 0
      },
      "text/plain": [
       "  0%|          | 0/19137 [00:00<?, ?it/s]"
      ]
     },
     "metadata": {},
     "output_type": "display_data"
    },
    {
     "name": "stdout",
     "output_type": "stream",
     "text": [
      "Epoch:  13\n",
      "train loss:  0.21282978040710396\n",
      "val loss:  0.1551870404150338\n"
     ]
    },
    {
     "data": {
      "application/vnd.jupyter.widget-view+json": {
       "model_id": "d7252eb43d1143e280c2cf2612aa75fd",
       "version_major": 2,
       "version_minor": 0
      },
      "text/plain": [
       "  0%|          | 0/19137 [00:00<?, ?it/s]"
      ]
     },
     "metadata": {},
     "output_type": "display_data"
    },
    {
     "data": {
      "application/vnd.jupyter.widget-view+json": {
       "model_id": "98b09ea774eb4df8983486c28cc2d4ef",
       "version_major": 2,
       "version_minor": 0
      },
      "text/plain": [
       "  0%|          | 0/19137 [00:00<?, ?it/s]"
      ]
     },
     "metadata": {},
     "output_type": "display_data"
    },
    {
     "name": "stdout",
     "output_type": "stream",
     "text": [
      "Epoch:  14\n",
      "train loss:  0.20144096686639998\n",
      "val loss:  0.14613473296180735\n"
     ]
    },
    {
     "data": {
      "application/vnd.jupyter.widget-view+json": {
       "model_id": "9c310c45a7ef4e26b2536a8308278ecb",
       "version_major": 2,
       "version_minor": 0
      },
      "text/plain": [
       "  0%|          | 0/19137 [00:00<?, ?it/s]"
      ]
     },
     "metadata": {},
     "output_type": "display_data"
    },
    {
     "ename": "KeyboardInterrupt",
     "evalue": "",
     "output_type": "error",
     "traceback": [
      "\u001b[1;31m---------------------------------------------------------------------------\u001b[0m",
      "\u001b[1;31mKeyboardInterrupt\u001b[0m                         Traceback (most recent call last)",
      "\u001b[1;32m<ipython-input-21-b35d0e069111>\u001b[0m in \u001b[0;36m<module>\u001b[1;34m\u001b[0m\n\u001b[0;32m     10\u001b[0m     \u001b[1;32mfor\u001b[0m \u001b[0mX\u001b[0m\u001b[1;33m,\u001b[0m \u001b[0my\u001b[0m \u001b[1;32min\u001b[0m \u001b[0mtqdm\u001b[0m\u001b[1;33m(\u001b[0m\u001b[0mtrain_loader\u001b[0m\u001b[1;33m)\u001b[0m\u001b[1;33m:\u001b[0m\u001b[1;33m\u001b[0m\u001b[1;33m\u001b[0m\u001b[0m\n\u001b[0;32m     11\u001b[0m         \u001b[0moptimizer\u001b[0m\u001b[1;33m.\u001b[0m\u001b[0mzero_grad\u001b[0m\u001b[1;33m(\u001b[0m\u001b[1;33m)\u001b[0m\u001b[1;33m\u001b[0m\u001b[1;33m\u001b[0m\u001b[0m\n\u001b[1;32m---> 12\u001b[1;33m         \u001b[0mpred\u001b[0m \u001b[1;33m=\u001b[0m \u001b[0mmodel\u001b[0m\u001b[1;33m(\u001b[0m\u001b[0mtorch\u001b[0m\u001b[1;33m.\u001b[0m\u001b[0mtensor\u001b[0m\u001b[1;33m(\u001b[0m\u001b[0mX\u001b[0m\u001b[1;33m)\u001b[0m\u001b[1;33m.\u001b[0m\u001b[0mto\u001b[0m\u001b[1;33m(\u001b[0m\u001b[0mdevice\u001b[0m\u001b[1;33m)\u001b[0m\u001b[1;33m)\u001b[0m\u001b[1;33m\u001b[0m\u001b[1;33m\u001b[0m\u001b[0m\n\u001b[0m\u001b[0;32m     13\u001b[0m         \u001b[0mloss\u001b[0m \u001b[1;33m=\u001b[0m \u001b[0mloss_fn\u001b[0m\u001b[1;33m(\u001b[0m\u001b[0mpred\u001b[0m\u001b[1;33m,\u001b[0m \u001b[0mtorch\u001b[0m\u001b[1;33m.\u001b[0m\u001b[0mtensor\u001b[0m\u001b[1;33m(\u001b[0m\u001b[0my\u001b[0m\u001b[1;33m)\u001b[0m\u001b[1;33m.\u001b[0m\u001b[0mto\u001b[0m\u001b[1;33m(\u001b[0m\u001b[0mdevice\u001b[0m\u001b[1;33m)\u001b[0m\u001b[1;33m.\u001b[0m\u001b[0mlong\u001b[0m\u001b[1;33m(\u001b[0m\u001b[1;33m)\u001b[0m\u001b[1;33m)\u001b[0m\u001b[1;33m\u001b[0m\u001b[1;33m\u001b[0m\u001b[0m\n\u001b[0;32m     14\u001b[0m         \u001b[0mloss\u001b[0m\u001b[1;33m.\u001b[0m\u001b[0mbackward\u001b[0m\u001b[1;33m(\u001b[0m\u001b[1;33m)\u001b[0m\u001b[1;33m\u001b[0m\u001b[1;33m\u001b[0m\u001b[0m\n",
      "\u001b[1;32mc:\\users\\admin\\appdata\\local\\programs\\python\\python36\\lib\\site-packages\\torch\\nn\\modules\\module.py\u001b[0m in \u001b[0;36m_call_impl\u001b[1;34m(self, *input, **kwargs)\u001b[0m\n\u001b[0;32m   1100\u001b[0m         if not (self._backward_hooks or self._forward_hooks or self._forward_pre_hooks or _global_backward_hooks\n\u001b[0;32m   1101\u001b[0m                 or _global_forward_hooks or _global_forward_pre_hooks):\n\u001b[1;32m-> 1102\u001b[1;33m             \u001b[1;32mreturn\u001b[0m \u001b[0mforward_call\u001b[0m\u001b[1;33m(\u001b[0m\u001b[1;33m*\u001b[0m\u001b[0minput\u001b[0m\u001b[1;33m,\u001b[0m \u001b[1;33m**\u001b[0m\u001b[0mkwargs\u001b[0m\u001b[1;33m)\u001b[0m\u001b[1;33m\u001b[0m\u001b[1;33m\u001b[0m\u001b[0m\n\u001b[0m\u001b[0;32m   1103\u001b[0m         \u001b[1;31m# Do not call functions when jit is used\u001b[0m\u001b[1;33m\u001b[0m\u001b[1;33m\u001b[0m\u001b[1;33m\u001b[0m\u001b[0m\n\u001b[0;32m   1104\u001b[0m         \u001b[0mfull_backward_hooks\u001b[0m\u001b[1;33m,\u001b[0m \u001b[0mnon_full_backward_hooks\u001b[0m \u001b[1;33m=\u001b[0m \u001b[1;33m[\u001b[0m\u001b[1;33m]\u001b[0m\u001b[1;33m,\u001b[0m \u001b[1;33m[\u001b[0m\u001b[1;33m]\u001b[0m\u001b[1;33m\u001b[0m\u001b[1;33m\u001b[0m\u001b[0m\n",
      "\u001b[1;32mc:\\users\\admin\\appdata\\local\\programs\\python\\python36\\lib\\site-packages\\timm\\models\\efficientnet.py\u001b[0m in \u001b[0;36mforward\u001b[1;34m(self, x)\u001b[0m\n\u001b[0;32m    555\u001b[0m \u001b[1;33m\u001b[0m\u001b[0m\n\u001b[0;32m    556\u001b[0m     \u001b[1;32mdef\u001b[0m \u001b[0mforward\u001b[0m\u001b[1;33m(\u001b[0m\u001b[0mself\u001b[0m\u001b[1;33m,\u001b[0m \u001b[0mx\u001b[0m\u001b[1;33m)\u001b[0m\u001b[1;33m:\u001b[0m\u001b[1;33m\u001b[0m\u001b[1;33m\u001b[0m\u001b[0m\n\u001b[1;32m--> 557\u001b[1;33m         \u001b[0mx\u001b[0m \u001b[1;33m=\u001b[0m \u001b[0mself\u001b[0m\u001b[1;33m.\u001b[0m\u001b[0mforward_features\u001b[0m\u001b[1;33m(\u001b[0m\u001b[0mx\u001b[0m\u001b[1;33m)\u001b[0m\u001b[1;33m\u001b[0m\u001b[1;33m\u001b[0m\u001b[0m\n\u001b[0m\u001b[0;32m    558\u001b[0m         \u001b[0mx\u001b[0m \u001b[1;33m=\u001b[0m \u001b[0mself\u001b[0m\u001b[1;33m.\u001b[0m\u001b[0mforward_head\u001b[0m\u001b[1;33m(\u001b[0m\u001b[0mx\u001b[0m\u001b[1;33m)\u001b[0m\u001b[1;33m\u001b[0m\u001b[1;33m\u001b[0m\u001b[0m\n\u001b[0;32m    559\u001b[0m         \u001b[1;32mreturn\u001b[0m \u001b[0mx\u001b[0m\u001b[1;33m\u001b[0m\u001b[1;33m\u001b[0m\u001b[0m\n",
      "\u001b[1;32mc:\\users\\admin\\appdata\\local\\programs\\python\\python36\\lib\\site-packages\\timm\\models\\efficientnet.py\u001b[0m in \u001b[0;36mforward_features\u001b[1;34m(self, x)\u001b[0m\n\u001b[0;32m    543\u001b[0m             \u001b[0mx\u001b[0m \u001b[1;33m=\u001b[0m \u001b[0mcheckpoint_seq\u001b[0m\u001b[1;33m(\u001b[0m\u001b[0mself\u001b[0m\u001b[1;33m.\u001b[0m\u001b[0mblocks\u001b[0m\u001b[1;33m,\u001b[0m \u001b[0mx\u001b[0m\u001b[1;33m,\u001b[0m \u001b[0mflatten\u001b[0m\u001b[1;33m=\u001b[0m\u001b[1;32mTrue\u001b[0m\u001b[1;33m)\u001b[0m\u001b[1;33m\u001b[0m\u001b[1;33m\u001b[0m\u001b[0m\n\u001b[0;32m    544\u001b[0m         \u001b[1;32melse\u001b[0m\u001b[1;33m:\u001b[0m\u001b[1;33m\u001b[0m\u001b[1;33m\u001b[0m\u001b[0m\n\u001b[1;32m--> 545\u001b[1;33m             \u001b[0mx\u001b[0m \u001b[1;33m=\u001b[0m \u001b[0mself\u001b[0m\u001b[1;33m.\u001b[0m\u001b[0mblocks\u001b[0m\u001b[1;33m(\u001b[0m\u001b[0mx\u001b[0m\u001b[1;33m)\u001b[0m\u001b[1;33m\u001b[0m\u001b[1;33m\u001b[0m\u001b[0m\n\u001b[0m\u001b[0;32m    546\u001b[0m         \u001b[0mx\u001b[0m \u001b[1;33m=\u001b[0m \u001b[0mself\u001b[0m\u001b[1;33m.\u001b[0m\u001b[0mconv_head\u001b[0m\u001b[1;33m(\u001b[0m\u001b[0mx\u001b[0m\u001b[1;33m)\u001b[0m\u001b[1;33m\u001b[0m\u001b[1;33m\u001b[0m\u001b[0m\n\u001b[0;32m    547\u001b[0m         \u001b[0mx\u001b[0m \u001b[1;33m=\u001b[0m \u001b[0mself\u001b[0m\u001b[1;33m.\u001b[0m\u001b[0mbn2\u001b[0m\u001b[1;33m(\u001b[0m\u001b[0mx\u001b[0m\u001b[1;33m)\u001b[0m\u001b[1;33m\u001b[0m\u001b[1;33m\u001b[0m\u001b[0m\n",
      "\u001b[1;32mc:\\users\\admin\\appdata\\local\\programs\\python\\python36\\lib\\site-packages\\torch\\nn\\modules\\module.py\u001b[0m in \u001b[0;36m_call_impl\u001b[1;34m(self, *input, **kwargs)\u001b[0m\n\u001b[0;32m   1100\u001b[0m         if not (self._backward_hooks or self._forward_hooks or self._forward_pre_hooks or _global_backward_hooks\n\u001b[0;32m   1101\u001b[0m                 or _global_forward_hooks or _global_forward_pre_hooks):\n\u001b[1;32m-> 1102\u001b[1;33m             \u001b[1;32mreturn\u001b[0m \u001b[0mforward_call\u001b[0m\u001b[1;33m(\u001b[0m\u001b[1;33m*\u001b[0m\u001b[0minput\u001b[0m\u001b[1;33m,\u001b[0m \u001b[1;33m**\u001b[0m\u001b[0mkwargs\u001b[0m\u001b[1;33m)\u001b[0m\u001b[1;33m\u001b[0m\u001b[1;33m\u001b[0m\u001b[0m\n\u001b[0m\u001b[0;32m   1103\u001b[0m         \u001b[1;31m# Do not call functions when jit is used\u001b[0m\u001b[1;33m\u001b[0m\u001b[1;33m\u001b[0m\u001b[1;33m\u001b[0m\u001b[0m\n\u001b[0;32m   1104\u001b[0m         \u001b[0mfull_backward_hooks\u001b[0m\u001b[1;33m,\u001b[0m \u001b[0mnon_full_backward_hooks\u001b[0m \u001b[1;33m=\u001b[0m \u001b[1;33m[\u001b[0m\u001b[1;33m]\u001b[0m\u001b[1;33m,\u001b[0m \u001b[1;33m[\u001b[0m\u001b[1;33m]\u001b[0m\u001b[1;33m\u001b[0m\u001b[1;33m\u001b[0m\u001b[0m\n",
      "\u001b[1;32mc:\\users\\admin\\appdata\\local\\programs\\python\\python36\\lib\\site-packages\\torch\\nn\\modules\\container.py\u001b[0m in \u001b[0;36mforward\u001b[1;34m(self, input)\u001b[0m\n\u001b[0;32m    139\u001b[0m     \u001b[1;32mdef\u001b[0m \u001b[0mforward\u001b[0m\u001b[1;33m(\u001b[0m\u001b[0mself\u001b[0m\u001b[1;33m,\u001b[0m \u001b[0minput\u001b[0m\u001b[1;33m)\u001b[0m\u001b[1;33m:\u001b[0m\u001b[1;33m\u001b[0m\u001b[1;33m\u001b[0m\u001b[0m\n\u001b[0;32m    140\u001b[0m         \u001b[1;32mfor\u001b[0m \u001b[0mmodule\u001b[0m \u001b[1;32min\u001b[0m \u001b[0mself\u001b[0m\u001b[1;33m:\u001b[0m\u001b[1;33m\u001b[0m\u001b[1;33m\u001b[0m\u001b[0m\n\u001b[1;32m--> 141\u001b[1;33m             \u001b[0minput\u001b[0m \u001b[1;33m=\u001b[0m \u001b[0mmodule\u001b[0m\u001b[1;33m(\u001b[0m\u001b[0minput\u001b[0m\u001b[1;33m)\u001b[0m\u001b[1;33m\u001b[0m\u001b[1;33m\u001b[0m\u001b[0m\n\u001b[0m\u001b[0;32m    142\u001b[0m         \u001b[1;32mreturn\u001b[0m \u001b[0minput\u001b[0m\u001b[1;33m\u001b[0m\u001b[1;33m\u001b[0m\u001b[0m\n\u001b[0;32m    143\u001b[0m \u001b[1;33m\u001b[0m\u001b[0m\n",
      "\u001b[1;32mc:\\users\\admin\\appdata\\local\\programs\\python\\python36\\lib\\site-packages\\torch\\nn\\modules\\module.py\u001b[0m in \u001b[0;36m_call_impl\u001b[1;34m(self, *input, **kwargs)\u001b[0m\n\u001b[0;32m   1100\u001b[0m         if not (self._backward_hooks or self._forward_hooks or self._forward_pre_hooks or _global_backward_hooks\n\u001b[0;32m   1101\u001b[0m                 or _global_forward_hooks or _global_forward_pre_hooks):\n\u001b[1;32m-> 1102\u001b[1;33m             \u001b[1;32mreturn\u001b[0m \u001b[0mforward_call\u001b[0m\u001b[1;33m(\u001b[0m\u001b[1;33m*\u001b[0m\u001b[0minput\u001b[0m\u001b[1;33m,\u001b[0m \u001b[1;33m**\u001b[0m\u001b[0mkwargs\u001b[0m\u001b[1;33m)\u001b[0m\u001b[1;33m\u001b[0m\u001b[1;33m\u001b[0m\u001b[0m\n\u001b[0m\u001b[0;32m   1103\u001b[0m         \u001b[1;31m# Do not call functions when jit is used\u001b[0m\u001b[1;33m\u001b[0m\u001b[1;33m\u001b[0m\u001b[1;33m\u001b[0m\u001b[0m\n\u001b[0;32m   1104\u001b[0m         \u001b[0mfull_backward_hooks\u001b[0m\u001b[1;33m,\u001b[0m \u001b[0mnon_full_backward_hooks\u001b[0m \u001b[1;33m=\u001b[0m \u001b[1;33m[\u001b[0m\u001b[1;33m]\u001b[0m\u001b[1;33m,\u001b[0m \u001b[1;33m[\u001b[0m\u001b[1;33m]\u001b[0m\u001b[1;33m\u001b[0m\u001b[1;33m\u001b[0m\u001b[0m\n",
      "\u001b[1;32mc:\\users\\admin\\appdata\\local\\programs\\python\\python36\\lib\\site-packages\\torch\\nn\\modules\\container.py\u001b[0m in \u001b[0;36mforward\u001b[1;34m(self, input)\u001b[0m\n\u001b[0;32m    139\u001b[0m     \u001b[1;32mdef\u001b[0m \u001b[0mforward\u001b[0m\u001b[1;33m(\u001b[0m\u001b[0mself\u001b[0m\u001b[1;33m,\u001b[0m \u001b[0minput\u001b[0m\u001b[1;33m)\u001b[0m\u001b[1;33m:\u001b[0m\u001b[1;33m\u001b[0m\u001b[1;33m\u001b[0m\u001b[0m\n\u001b[0;32m    140\u001b[0m         \u001b[1;32mfor\u001b[0m \u001b[0mmodule\u001b[0m \u001b[1;32min\u001b[0m \u001b[0mself\u001b[0m\u001b[1;33m:\u001b[0m\u001b[1;33m\u001b[0m\u001b[1;33m\u001b[0m\u001b[0m\n\u001b[1;32m--> 141\u001b[1;33m             \u001b[0minput\u001b[0m \u001b[1;33m=\u001b[0m \u001b[0mmodule\u001b[0m\u001b[1;33m(\u001b[0m\u001b[0minput\u001b[0m\u001b[1;33m)\u001b[0m\u001b[1;33m\u001b[0m\u001b[1;33m\u001b[0m\u001b[0m\n\u001b[0m\u001b[0;32m    142\u001b[0m         \u001b[1;32mreturn\u001b[0m \u001b[0minput\u001b[0m\u001b[1;33m\u001b[0m\u001b[1;33m\u001b[0m\u001b[0m\n\u001b[0;32m    143\u001b[0m \u001b[1;33m\u001b[0m\u001b[0m\n",
      "\u001b[1;32mc:\\users\\admin\\appdata\\local\\programs\\python\\python36\\lib\\site-packages\\torch\\nn\\modules\\module.py\u001b[0m in \u001b[0;36m_call_impl\u001b[1;34m(self, *input, **kwargs)\u001b[0m\n\u001b[0;32m   1100\u001b[0m         if not (self._backward_hooks or self._forward_hooks or self._forward_pre_hooks or _global_backward_hooks\n\u001b[0;32m   1101\u001b[0m                 or _global_forward_hooks or _global_forward_pre_hooks):\n\u001b[1;32m-> 1102\u001b[1;33m             \u001b[1;32mreturn\u001b[0m \u001b[0mforward_call\u001b[0m\u001b[1;33m(\u001b[0m\u001b[1;33m*\u001b[0m\u001b[0minput\u001b[0m\u001b[1;33m,\u001b[0m \u001b[1;33m**\u001b[0m\u001b[0mkwargs\u001b[0m\u001b[1;33m)\u001b[0m\u001b[1;33m\u001b[0m\u001b[1;33m\u001b[0m\u001b[0m\n\u001b[0m\u001b[0;32m   1103\u001b[0m         \u001b[1;31m# Do not call functions when jit is used\u001b[0m\u001b[1;33m\u001b[0m\u001b[1;33m\u001b[0m\u001b[1;33m\u001b[0m\u001b[0m\n\u001b[0;32m   1104\u001b[0m         \u001b[0mfull_backward_hooks\u001b[0m\u001b[1;33m,\u001b[0m \u001b[0mnon_full_backward_hooks\u001b[0m \u001b[1;33m=\u001b[0m \u001b[1;33m[\u001b[0m\u001b[1;33m]\u001b[0m\u001b[1;33m,\u001b[0m \u001b[1;33m[\u001b[0m\u001b[1;33m]\u001b[0m\u001b[1;33m\u001b[0m\u001b[1;33m\u001b[0m\u001b[0m\n",
      "\u001b[1;32mc:\\users\\admin\\appdata\\local\\programs\\python\\python36\\lib\\site-packages\\timm\\models\\efficientnet_blocks.py\u001b[0m in \u001b[0;36mforward\u001b[1;34m(self, x)\u001b[0m\n\u001b[0;32m    182\u001b[0m         \u001b[0mx\u001b[0m \u001b[1;33m=\u001b[0m \u001b[0mself\u001b[0m\u001b[1;33m.\u001b[0m\u001b[0mbn1\u001b[0m\u001b[1;33m(\u001b[0m\u001b[0mx\u001b[0m\u001b[1;33m)\u001b[0m\u001b[1;33m\u001b[0m\u001b[1;33m\u001b[0m\u001b[0m\n\u001b[0;32m    183\u001b[0m         \u001b[0mx\u001b[0m \u001b[1;33m=\u001b[0m \u001b[0mself\u001b[0m\u001b[1;33m.\u001b[0m\u001b[0mconv_dw\u001b[0m\u001b[1;33m(\u001b[0m\u001b[0mx\u001b[0m\u001b[1;33m)\u001b[0m\u001b[1;33m\u001b[0m\u001b[1;33m\u001b[0m\u001b[0m\n\u001b[1;32m--> 184\u001b[1;33m         \u001b[0mx\u001b[0m \u001b[1;33m=\u001b[0m \u001b[0mself\u001b[0m\u001b[1;33m.\u001b[0m\u001b[0mbn2\u001b[0m\u001b[1;33m(\u001b[0m\u001b[0mx\u001b[0m\u001b[1;33m)\u001b[0m\u001b[1;33m\u001b[0m\u001b[1;33m\u001b[0m\u001b[0m\n\u001b[0m\u001b[0;32m    185\u001b[0m         \u001b[0mx\u001b[0m \u001b[1;33m=\u001b[0m \u001b[0mself\u001b[0m\u001b[1;33m.\u001b[0m\u001b[0mse\u001b[0m\u001b[1;33m(\u001b[0m\u001b[0mx\u001b[0m\u001b[1;33m)\u001b[0m\u001b[1;33m\u001b[0m\u001b[1;33m\u001b[0m\u001b[0m\n\u001b[0;32m    186\u001b[0m         \u001b[0mx\u001b[0m \u001b[1;33m=\u001b[0m \u001b[0mself\u001b[0m\u001b[1;33m.\u001b[0m\u001b[0mconv_pwl\u001b[0m\u001b[1;33m(\u001b[0m\u001b[0mx\u001b[0m\u001b[1;33m)\u001b[0m\u001b[1;33m\u001b[0m\u001b[1;33m\u001b[0m\u001b[0m\n",
      "\u001b[1;32mc:\\users\\admin\\appdata\\local\\programs\\python\\python36\\lib\\site-packages\\torch\\nn\\modules\\module.py\u001b[0m in \u001b[0;36m_call_impl\u001b[1;34m(self, *input, **kwargs)\u001b[0m\n\u001b[0;32m   1100\u001b[0m         if not (self._backward_hooks or self._forward_hooks or self._forward_pre_hooks or _global_backward_hooks\n\u001b[0;32m   1101\u001b[0m                 or _global_forward_hooks or _global_forward_pre_hooks):\n\u001b[1;32m-> 1102\u001b[1;33m             \u001b[1;32mreturn\u001b[0m \u001b[0mforward_call\u001b[0m\u001b[1;33m(\u001b[0m\u001b[1;33m*\u001b[0m\u001b[0minput\u001b[0m\u001b[1;33m,\u001b[0m \u001b[1;33m**\u001b[0m\u001b[0mkwargs\u001b[0m\u001b[1;33m)\u001b[0m\u001b[1;33m\u001b[0m\u001b[1;33m\u001b[0m\u001b[0m\n\u001b[0m\u001b[0;32m   1103\u001b[0m         \u001b[1;31m# Do not call functions when jit is used\u001b[0m\u001b[1;33m\u001b[0m\u001b[1;33m\u001b[0m\u001b[1;33m\u001b[0m\u001b[0m\n\u001b[0;32m   1104\u001b[0m         \u001b[0mfull_backward_hooks\u001b[0m\u001b[1;33m,\u001b[0m \u001b[0mnon_full_backward_hooks\u001b[0m \u001b[1;33m=\u001b[0m \u001b[1;33m[\u001b[0m\u001b[1;33m]\u001b[0m\u001b[1;33m,\u001b[0m \u001b[1;33m[\u001b[0m\u001b[1;33m]\u001b[0m\u001b[1;33m\u001b[0m\u001b[1;33m\u001b[0m\u001b[0m\n",
      "\u001b[1;32mc:\\users\\admin\\appdata\\local\\programs\\python\\python36\\lib\\site-packages\\timm\\models\\layers\\norm_act.py\u001b[0m in \u001b[0;36mforward\u001b[1;34m(self, x)\u001b[0m\n\u001b[0;32m     97\u001b[0m         )\n\u001b[0;32m     98\u001b[0m         \u001b[0mx\u001b[0m \u001b[1;33m=\u001b[0m \u001b[0mself\u001b[0m\u001b[1;33m.\u001b[0m\u001b[0mdrop\u001b[0m\u001b[1;33m(\u001b[0m\u001b[0mx\u001b[0m\u001b[1;33m)\u001b[0m\u001b[1;33m\u001b[0m\u001b[1;33m\u001b[0m\u001b[0m\n\u001b[1;32m---> 99\u001b[1;33m         \u001b[0mx\u001b[0m \u001b[1;33m=\u001b[0m \u001b[0mself\u001b[0m\u001b[1;33m.\u001b[0m\u001b[0mact\u001b[0m\u001b[1;33m(\u001b[0m\u001b[0mx\u001b[0m\u001b[1;33m)\u001b[0m\u001b[1;33m\u001b[0m\u001b[1;33m\u001b[0m\u001b[0m\n\u001b[0m\u001b[0;32m    100\u001b[0m         \u001b[1;32mreturn\u001b[0m \u001b[0mx\u001b[0m\u001b[1;33m\u001b[0m\u001b[1;33m\u001b[0m\u001b[0m\n\u001b[0;32m    101\u001b[0m \u001b[1;33m\u001b[0m\u001b[0m\n",
      "\u001b[1;32mc:\\users\\admin\\appdata\\local\\programs\\python\\python36\\lib\\site-packages\\torch\\nn\\modules\\module.py\u001b[0m in \u001b[0;36m_call_impl\u001b[1;34m(self, *input, **kwargs)\u001b[0m\n\u001b[0;32m   1100\u001b[0m         if not (self._backward_hooks or self._forward_hooks or self._forward_pre_hooks or _global_backward_hooks\n\u001b[0;32m   1101\u001b[0m                 or _global_forward_hooks or _global_forward_pre_hooks):\n\u001b[1;32m-> 1102\u001b[1;33m             \u001b[1;32mreturn\u001b[0m \u001b[0mforward_call\u001b[0m\u001b[1;33m(\u001b[0m\u001b[1;33m*\u001b[0m\u001b[0minput\u001b[0m\u001b[1;33m,\u001b[0m \u001b[1;33m**\u001b[0m\u001b[0mkwargs\u001b[0m\u001b[1;33m)\u001b[0m\u001b[1;33m\u001b[0m\u001b[1;33m\u001b[0m\u001b[0m\n\u001b[0m\u001b[0;32m   1103\u001b[0m         \u001b[1;31m# Do not call functions when jit is used\u001b[0m\u001b[1;33m\u001b[0m\u001b[1;33m\u001b[0m\u001b[1;33m\u001b[0m\u001b[0m\n\u001b[0;32m   1104\u001b[0m         \u001b[0mfull_backward_hooks\u001b[0m\u001b[1;33m,\u001b[0m \u001b[0mnon_full_backward_hooks\u001b[0m \u001b[1;33m=\u001b[0m \u001b[1;33m[\u001b[0m\u001b[1;33m]\u001b[0m\u001b[1;33m,\u001b[0m \u001b[1;33m[\u001b[0m\u001b[1;33m]\u001b[0m\u001b[1;33m\u001b[0m\u001b[1;33m\u001b[0m\u001b[0m\n",
      "\u001b[1;32mc:\\users\\admin\\appdata\\local\\programs\\python\\python36\\lib\\site-packages\\torch\\nn\\modules\\activation.py\u001b[0m in \u001b[0;36mforward\u001b[1;34m(self, input)\u001b[0m\n\u001b[0;32m    382\u001b[0m \u001b[1;33m\u001b[0m\u001b[0m\n\u001b[0;32m    383\u001b[0m     \u001b[1;32mdef\u001b[0m \u001b[0mforward\u001b[0m\u001b[1;33m(\u001b[0m\u001b[0mself\u001b[0m\u001b[1;33m,\u001b[0m \u001b[0minput\u001b[0m\u001b[1;33m:\u001b[0m \u001b[0mTensor\u001b[0m\u001b[1;33m)\u001b[0m \u001b[1;33m->\u001b[0m \u001b[0mTensor\u001b[0m\u001b[1;33m:\u001b[0m\u001b[1;33m\u001b[0m\u001b[1;33m\u001b[0m\u001b[0m\n\u001b[1;32m--> 384\u001b[1;33m         \u001b[1;32mreturn\u001b[0m \u001b[0mF\u001b[0m\u001b[1;33m.\u001b[0m\u001b[0msilu\u001b[0m\u001b[1;33m(\u001b[0m\u001b[0minput\u001b[0m\u001b[1;33m,\u001b[0m \u001b[0minplace\u001b[0m\u001b[1;33m=\u001b[0m\u001b[0mself\u001b[0m\u001b[1;33m.\u001b[0m\u001b[0minplace\u001b[0m\u001b[1;33m)\u001b[0m\u001b[1;33m\u001b[0m\u001b[1;33m\u001b[0m\u001b[0m\n\u001b[0m\u001b[0;32m    385\u001b[0m \u001b[1;33m\u001b[0m\u001b[0m\n\u001b[0;32m    386\u001b[0m     \u001b[1;32mdef\u001b[0m \u001b[0mextra_repr\u001b[0m\u001b[1;33m(\u001b[0m\u001b[0mself\u001b[0m\u001b[1;33m)\u001b[0m \u001b[1;33m->\u001b[0m \u001b[0mstr\u001b[0m\u001b[1;33m:\u001b[0m\u001b[1;33m\u001b[0m\u001b[1;33m\u001b[0m\u001b[0m\n",
      "\u001b[1;32mc:\\users\\admin\\appdata\\local\\programs\\python\\python36\\lib\\site-packages\\torch\\nn\\functional.py\u001b[0m in \u001b[0;36msilu\u001b[1;34m(input, inplace)\u001b[0m\n\u001b[0;32m   1896\u001b[0m         \u001b[1;32mreturn\u001b[0m \u001b[0mhandle_torch_function\u001b[0m\u001b[1;33m(\u001b[0m\u001b[0msilu\u001b[0m\u001b[1;33m,\u001b[0m \u001b[1;33m(\u001b[0m\u001b[0minput\u001b[0m\u001b[1;33m,\u001b[0m\u001b[1;33m)\u001b[0m\u001b[1;33m,\u001b[0m \u001b[0minput\u001b[0m\u001b[1;33m,\u001b[0m \u001b[0minplace\u001b[0m\u001b[1;33m=\u001b[0m\u001b[0minplace\u001b[0m\u001b[1;33m)\u001b[0m\u001b[1;33m\u001b[0m\u001b[1;33m\u001b[0m\u001b[0m\n\u001b[0;32m   1897\u001b[0m     \u001b[1;32mif\u001b[0m \u001b[0minplace\u001b[0m\u001b[1;33m:\u001b[0m\u001b[1;33m\u001b[0m\u001b[1;33m\u001b[0m\u001b[0m\n\u001b[1;32m-> 1898\u001b[1;33m         \u001b[1;32mreturn\u001b[0m \u001b[0mtorch\u001b[0m\u001b[1;33m.\u001b[0m\u001b[0m_C\u001b[0m\u001b[1;33m.\u001b[0m\u001b[0m_nn\u001b[0m\u001b[1;33m.\u001b[0m\u001b[0msilu_\u001b[0m\u001b[1;33m(\u001b[0m\u001b[0minput\u001b[0m\u001b[1;33m)\u001b[0m\u001b[1;33m\u001b[0m\u001b[1;33m\u001b[0m\u001b[0m\n\u001b[0m\u001b[0;32m   1899\u001b[0m     \u001b[1;32mreturn\u001b[0m \u001b[0mtorch\u001b[0m\u001b[1;33m.\u001b[0m\u001b[0m_C\u001b[0m\u001b[1;33m.\u001b[0m\u001b[0m_nn\u001b[0m\u001b[1;33m.\u001b[0m\u001b[0msilu\u001b[0m\u001b[1;33m(\u001b[0m\u001b[0minput\u001b[0m\u001b[1;33m)\u001b[0m\u001b[1;33m\u001b[0m\u001b[1;33m\u001b[0m\u001b[0m\n\u001b[0;32m   1900\u001b[0m \u001b[1;33m\u001b[0m\u001b[0m\n",
      "\u001b[1;31mKeyboardInterrupt\u001b[0m: "
     ]
    }
   ],
   "source": [
    "train_loss = []\n",
    "val_loss = []\n",
    "j = 0\n",
    "k = 0\n",
    "i = 0\n",
    "best_loss = 10000\n",
    "model.train()\n",
    "model.cuda()\n",
    "for epoch in range(num_epochs):\n",
    "    for X, y in tqdm(train_loader):\n",
    "        optimizer.zero_grad()\n",
    "        pred = model(torch.tensor(X).to(device))\n",
    "        loss = loss_fn(pred, torch.tensor(y).to(device).long())\n",
    "        loss.backward()\n",
    "        optimizer.step()\n",
    "        #writer.add_scalar('training loss', loss.item(), global_step=j)\n",
    "        #j+=1\n",
    "        train_loss.append(loss.item())\n",
    "    \n",
    "    for X, y in tqdm(test_loader):\n",
    "        pred = model(torch.tensor(X).to(device))\n",
    "        loss = loss_fn(pred, torch.tensor(y).to(device).long())\n",
    "        \n",
    "        val_loss.append(loss.item())\n",
    "        #writer.add_scalar('validation loss', loss.item(), global_step=k)\n",
    "        #k+=1\n",
    "    i += 1   \n",
    "    #if best_loss > np.mean(val_loss):\n",
    "    #    best_loss = np.mean(val_loss)\n",
    "    #    torch.save(model.state_dict(), \"model.pt\")\n",
    "    print(\"Epoch: \", i)\n",
    "    print(\"train loss: \", np.mean(train_loss))\n",
    "    print(\"val loss: \", np.mean(val_loss))"
   ]
  },
  {
   "cell_type": "code",
   "execution_count": 22,
   "id": "1daac5ee",
   "metadata": {},
   "outputs": [
    {
     "name": "stdout",
     "output_type": "stream",
     "text": [
      "conv_stem.weight \t torch.Size([48, 3, 3, 3])\n",
      "bn1.weight \t torch.Size([48])\n",
      "bn1.bias \t torch.Size([48])\n",
      "bn1.running_mean \t torch.Size([48])\n",
      "bn1.running_var \t torch.Size([48])\n",
      "bn1.num_batches_tracked \t torch.Size([])\n",
      "blocks.0.0.conv_dw.weight \t torch.Size([48, 1, 3, 3])\n",
      "blocks.0.0.bn1.weight \t torch.Size([48])\n",
      "blocks.0.0.bn1.bias \t torch.Size([48])\n",
      "blocks.0.0.bn1.running_mean \t torch.Size([48])\n",
      "blocks.0.0.bn1.running_var \t torch.Size([48])\n",
      "blocks.0.0.bn1.num_batches_tracked \t torch.Size([])\n",
      "blocks.0.0.se.conv_reduce.weight \t torch.Size([12, 48, 1, 1])\n",
      "blocks.0.0.se.conv_reduce.bias \t torch.Size([12])\n",
      "blocks.0.0.se.conv_expand.weight \t torch.Size([48, 12, 1, 1])\n",
      "blocks.0.0.se.conv_expand.bias \t torch.Size([48])\n",
      "blocks.0.0.conv_pw.weight \t torch.Size([24, 48, 1, 1])\n",
      "blocks.0.0.bn2.weight \t torch.Size([24])\n",
      "blocks.0.0.bn2.bias \t torch.Size([24])\n",
      "blocks.0.0.bn2.running_mean \t torch.Size([24])\n",
      "blocks.0.0.bn2.running_var \t torch.Size([24])\n",
      "blocks.0.0.bn2.num_batches_tracked \t torch.Size([])\n",
      "blocks.0.1.conv_dw.weight \t torch.Size([24, 1, 3, 3])\n",
      "blocks.0.1.bn1.weight \t torch.Size([24])\n",
      "blocks.0.1.bn1.bias \t torch.Size([24])\n",
      "blocks.0.1.bn1.running_mean \t torch.Size([24])\n",
      "blocks.0.1.bn1.running_var \t torch.Size([24])\n",
      "blocks.0.1.bn1.num_batches_tracked \t torch.Size([])\n",
      "blocks.0.1.se.conv_reduce.weight \t torch.Size([6, 24, 1, 1])\n",
      "blocks.0.1.se.conv_reduce.bias \t torch.Size([6])\n",
      "blocks.0.1.se.conv_expand.weight \t torch.Size([24, 6, 1, 1])\n",
      "blocks.0.1.se.conv_expand.bias \t torch.Size([24])\n",
      "blocks.0.1.conv_pw.weight \t torch.Size([24, 24, 1, 1])\n",
      "blocks.0.1.bn2.weight \t torch.Size([24])\n",
      "blocks.0.1.bn2.bias \t torch.Size([24])\n",
      "blocks.0.1.bn2.running_mean \t torch.Size([24])\n",
      "blocks.0.1.bn2.running_var \t torch.Size([24])\n",
      "blocks.0.1.bn2.num_batches_tracked \t torch.Size([])\n",
      "blocks.0.2.conv_dw.weight \t torch.Size([24, 1, 3, 3])\n",
      "blocks.0.2.bn1.weight \t torch.Size([24])\n",
      "blocks.0.2.bn1.bias \t torch.Size([24])\n",
      "blocks.0.2.bn1.running_mean \t torch.Size([24])\n",
      "blocks.0.2.bn1.running_var \t torch.Size([24])\n",
      "blocks.0.2.bn1.num_batches_tracked \t torch.Size([])\n",
      "blocks.0.2.se.conv_reduce.weight \t torch.Size([6, 24, 1, 1])\n",
      "blocks.0.2.se.conv_reduce.bias \t torch.Size([6])\n",
      "blocks.0.2.se.conv_expand.weight \t torch.Size([24, 6, 1, 1])\n",
      "blocks.0.2.se.conv_expand.bias \t torch.Size([24])\n",
      "blocks.0.2.conv_pw.weight \t torch.Size([24, 24, 1, 1])\n",
      "blocks.0.2.bn2.weight \t torch.Size([24])\n",
      "blocks.0.2.bn2.bias \t torch.Size([24])\n",
      "blocks.0.2.bn2.running_mean \t torch.Size([24])\n",
      "blocks.0.2.bn2.running_var \t torch.Size([24])\n",
      "blocks.0.2.bn2.num_batches_tracked \t torch.Size([])\n",
      "blocks.1.0.conv_pw.weight \t torch.Size([144, 24, 1, 1])\n",
      "blocks.1.0.bn1.weight \t torch.Size([144])\n",
      "blocks.1.0.bn1.bias \t torch.Size([144])\n",
      "blocks.1.0.bn1.running_mean \t torch.Size([144])\n",
      "blocks.1.0.bn1.running_var \t torch.Size([144])\n",
      "blocks.1.0.bn1.num_batches_tracked \t torch.Size([])\n",
      "blocks.1.0.conv_dw.weight \t torch.Size([144, 1, 3, 3])\n",
      "blocks.1.0.bn2.weight \t torch.Size([144])\n",
      "blocks.1.0.bn2.bias \t torch.Size([144])\n",
      "blocks.1.0.bn2.running_mean \t torch.Size([144])\n",
      "blocks.1.0.bn2.running_var \t torch.Size([144])\n",
      "blocks.1.0.bn2.num_batches_tracked \t torch.Size([])\n",
      "blocks.1.0.se.conv_reduce.weight \t torch.Size([6, 144, 1, 1])\n",
      "blocks.1.0.se.conv_reduce.bias \t torch.Size([6])\n",
      "blocks.1.0.se.conv_expand.weight \t torch.Size([144, 6, 1, 1])\n",
      "blocks.1.0.se.conv_expand.bias \t torch.Size([144])\n",
      "blocks.1.0.conv_pwl.weight \t torch.Size([40, 144, 1, 1])\n",
      "blocks.1.0.bn3.weight \t torch.Size([40])\n",
      "blocks.1.0.bn3.bias \t torch.Size([40])\n",
      "blocks.1.0.bn3.running_mean \t torch.Size([40])\n",
      "blocks.1.0.bn3.running_var \t torch.Size([40])\n",
      "blocks.1.0.bn3.num_batches_tracked \t torch.Size([])\n",
      "blocks.1.1.conv_pw.weight \t torch.Size([240, 40, 1, 1])\n",
      "blocks.1.1.bn1.weight \t torch.Size([240])\n",
      "blocks.1.1.bn1.bias \t torch.Size([240])\n",
      "blocks.1.1.bn1.running_mean \t torch.Size([240])\n",
      "blocks.1.1.bn1.running_var \t torch.Size([240])\n",
      "blocks.1.1.bn1.num_batches_tracked \t torch.Size([])\n",
      "blocks.1.1.conv_dw.weight \t torch.Size([240, 1, 3, 3])\n",
      "blocks.1.1.bn2.weight \t torch.Size([240])\n",
      "blocks.1.1.bn2.bias \t torch.Size([240])\n",
      "blocks.1.1.bn2.running_mean \t torch.Size([240])\n",
      "blocks.1.1.bn2.running_var \t torch.Size([240])\n",
      "blocks.1.1.bn2.num_batches_tracked \t torch.Size([])\n",
      "blocks.1.1.se.conv_reduce.weight \t torch.Size([10, 240, 1, 1])\n",
      "blocks.1.1.se.conv_reduce.bias \t torch.Size([10])\n",
      "blocks.1.1.se.conv_expand.weight \t torch.Size([240, 10, 1, 1])\n",
      "blocks.1.1.se.conv_expand.bias \t torch.Size([240])\n",
      "blocks.1.1.conv_pwl.weight \t torch.Size([40, 240, 1, 1])\n",
      "blocks.1.1.bn3.weight \t torch.Size([40])\n",
      "blocks.1.1.bn3.bias \t torch.Size([40])\n",
      "blocks.1.1.bn3.running_mean \t torch.Size([40])\n",
      "blocks.1.1.bn3.running_var \t torch.Size([40])\n",
      "blocks.1.1.bn3.num_batches_tracked \t torch.Size([])\n",
      "blocks.1.2.conv_pw.weight \t torch.Size([240, 40, 1, 1])\n",
      "blocks.1.2.bn1.weight \t torch.Size([240])\n",
      "blocks.1.2.bn1.bias \t torch.Size([240])\n",
      "blocks.1.2.bn1.running_mean \t torch.Size([240])\n",
      "blocks.1.2.bn1.running_var \t torch.Size([240])\n",
      "blocks.1.2.bn1.num_batches_tracked \t torch.Size([])\n",
      "blocks.1.2.conv_dw.weight \t torch.Size([240, 1, 3, 3])\n",
      "blocks.1.2.bn2.weight \t torch.Size([240])\n",
      "blocks.1.2.bn2.bias \t torch.Size([240])\n",
      "blocks.1.2.bn2.running_mean \t torch.Size([240])\n",
      "blocks.1.2.bn2.running_var \t torch.Size([240])\n",
      "blocks.1.2.bn2.num_batches_tracked \t torch.Size([])\n",
      "blocks.1.2.se.conv_reduce.weight \t torch.Size([10, 240, 1, 1])\n",
      "blocks.1.2.se.conv_reduce.bias \t torch.Size([10])\n",
      "blocks.1.2.se.conv_expand.weight \t torch.Size([240, 10, 1, 1])\n",
      "blocks.1.2.se.conv_expand.bias \t torch.Size([240])\n",
      "blocks.1.2.conv_pwl.weight \t torch.Size([40, 240, 1, 1])\n",
      "blocks.1.2.bn3.weight \t torch.Size([40])\n",
      "blocks.1.2.bn3.bias \t torch.Size([40])\n",
      "blocks.1.2.bn3.running_mean \t torch.Size([40])\n",
      "blocks.1.2.bn3.running_var \t torch.Size([40])\n",
      "blocks.1.2.bn3.num_batches_tracked \t torch.Size([])\n",
      "blocks.1.3.conv_pw.weight \t torch.Size([240, 40, 1, 1])\n",
      "blocks.1.3.bn1.weight \t torch.Size([240])\n",
      "blocks.1.3.bn1.bias \t torch.Size([240])\n",
      "blocks.1.3.bn1.running_mean \t torch.Size([240])\n",
      "blocks.1.3.bn1.running_var \t torch.Size([240])\n",
      "blocks.1.3.bn1.num_batches_tracked \t torch.Size([])\n",
      "blocks.1.3.conv_dw.weight \t torch.Size([240, 1, 3, 3])\n",
      "blocks.1.3.bn2.weight \t torch.Size([240])\n",
      "blocks.1.3.bn2.bias \t torch.Size([240])\n",
      "blocks.1.3.bn2.running_mean \t torch.Size([240])\n",
      "blocks.1.3.bn2.running_var \t torch.Size([240])\n",
      "blocks.1.3.bn2.num_batches_tracked \t torch.Size([])\n",
      "blocks.1.3.se.conv_reduce.weight \t torch.Size([10, 240, 1, 1])\n",
      "blocks.1.3.se.conv_reduce.bias \t torch.Size([10])\n",
      "blocks.1.3.se.conv_expand.weight \t torch.Size([240, 10, 1, 1])\n",
      "blocks.1.3.se.conv_expand.bias \t torch.Size([240])\n",
      "blocks.1.3.conv_pwl.weight \t torch.Size([40, 240, 1, 1])\n",
      "blocks.1.3.bn3.weight \t torch.Size([40])\n",
      "blocks.1.3.bn3.bias \t torch.Size([40])\n",
      "blocks.1.3.bn3.running_mean \t torch.Size([40])\n",
      "blocks.1.3.bn3.running_var \t torch.Size([40])\n",
      "blocks.1.3.bn3.num_batches_tracked \t torch.Size([])\n",
      "blocks.1.4.conv_pw.weight \t torch.Size([240, 40, 1, 1])\n",
      "blocks.1.4.bn1.weight \t torch.Size([240])\n",
      "blocks.1.4.bn1.bias \t torch.Size([240])\n",
      "blocks.1.4.bn1.running_mean \t torch.Size([240])\n",
      "blocks.1.4.bn1.running_var \t torch.Size([240])\n",
      "blocks.1.4.bn1.num_batches_tracked \t torch.Size([])\n",
      "blocks.1.4.conv_dw.weight \t torch.Size([240, 1, 3, 3])\n",
      "blocks.1.4.bn2.weight \t torch.Size([240])\n",
      "blocks.1.4.bn2.bias \t torch.Size([240])\n",
      "blocks.1.4.bn2.running_mean \t torch.Size([240])\n",
      "blocks.1.4.bn2.running_var \t torch.Size([240])\n",
      "blocks.1.4.bn2.num_batches_tracked \t torch.Size([])\n",
      "blocks.1.4.se.conv_reduce.weight \t torch.Size([10, 240, 1, 1])\n",
      "blocks.1.4.se.conv_reduce.bias \t torch.Size([10])\n",
      "blocks.1.4.se.conv_expand.weight \t torch.Size([240, 10, 1, 1])\n",
      "blocks.1.4.se.conv_expand.bias \t torch.Size([240])\n",
      "blocks.1.4.conv_pwl.weight \t torch.Size([40, 240, 1, 1])\n",
      "blocks.1.4.bn3.weight \t torch.Size([40])\n",
      "blocks.1.4.bn3.bias \t torch.Size([40])\n",
      "blocks.1.4.bn3.running_mean \t torch.Size([40])\n",
      "blocks.1.4.bn3.running_var \t torch.Size([40])\n",
      "blocks.1.4.bn3.num_batches_tracked \t torch.Size([])\n",
      "blocks.2.0.conv_pw.weight \t torch.Size([240, 40, 1, 1])\n",
      "blocks.2.0.bn1.weight \t torch.Size([240])\n",
      "blocks.2.0.bn1.bias \t torch.Size([240])\n",
      "blocks.2.0.bn1.running_mean \t torch.Size([240])\n",
      "blocks.2.0.bn1.running_var \t torch.Size([240])\n",
      "blocks.2.0.bn1.num_batches_tracked \t torch.Size([])\n",
      "blocks.2.0.conv_dw.weight \t torch.Size([240, 1, 5, 5])\n",
      "blocks.2.0.bn2.weight \t torch.Size([240])\n",
      "blocks.2.0.bn2.bias \t torch.Size([240])\n",
      "blocks.2.0.bn2.running_mean \t torch.Size([240])\n",
      "blocks.2.0.bn2.running_var \t torch.Size([240])\n",
      "blocks.2.0.bn2.num_batches_tracked \t torch.Size([])\n",
      "blocks.2.0.se.conv_reduce.weight \t torch.Size([10, 240, 1, 1])\n",
      "blocks.2.0.se.conv_reduce.bias \t torch.Size([10])\n",
      "blocks.2.0.se.conv_expand.weight \t torch.Size([240, 10, 1, 1])\n",
      "blocks.2.0.se.conv_expand.bias \t torch.Size([240])\n",
      "blocks.2.0.conv_pwl.weight \t torch.Size([64, 240, 1, 1])\n",
      "blocks.2.0.bn3.weight \t torch.Size([64])\n",
      "blocks.2.0.bn3.bias \t torch.Size([64])\n",
      "blocks.2.0.bn3.running_mean \t torch.Size([64])\n",
      "blocks.2.0.bn3.running_var \t torch.Size([64])\n",
      "blocks.2.0.bn3.num_batches_tracked \t torch.Size([])\n",
      "blocks.2.1.conv_pw.weight \t torch.Size([384, 64, 1, 1])\n",
      "blocks.2.1.bn1.weight \t torch.Size([384])\n",
      "blocks.2.1.bn1.bias \t torch.Size([384])\n",
      "blocks.2.1.bn1.running_mean \t torch.Size([384])\n",
      "blocks.2.1.bn1.running_var \t torch.Size([384])\n",
      "blocks.2.1.bn1.num_batches_tracked \t torch.Size([])\n",
      "blocks.2.1.conv_dw.weight \t torch.Size([384, 1, 5, 5])\n",
      "blocks.2.1.bn2.weight \t torch.Size([384])\n",
      "blocks.2.1.bn2.bias \t torch.Size([384])\n",
      "blocks.2.1.bn2.running_mean \t torch.Size([384])\n",
      "blocks.2.1.bn2.running_var \t torch.Size([384])\n",
      "blocks.2.1.bn2.num_batches_tracked \t torch.Size([])\n",
      "blocks.2.1.se.conv_reduce.weight \t torch.Size([16, 384, 1, 1])\n",
      "blocks.2.1.se.conv_reduce.bias \t torch.Size([16])\n",
      "blocks.2.1.se.conv_expand.weight \t torch.Size([384, 16, 1, 1])\n",
      "blocks.2.1.se.conv_expand.bias \t torch.Size([384])\n"
     ]
    },
    {
     "name": "stdout",
     "output_type": "stream",
     "text": [
      "blocks.2.1.conv_pwl.weight \t torch.Size([64, 384, 1, 1])\n",
      "blocks.2.1.bn3.weight \t torch.Size([64])\n",
      "blocks.2.1.bn3.bias \t torch.Size([64])\n",
      "blocks.2.1.bn3.running_mean \t torch.Size([64])\n",
      "blocks.2.1.bn3.running_var \t torch.Size([64])\n",
      "blocks.2.1.bn3.num_batches_tracked \t torch.Size([])\n",
      "blocks.2.2.conv_pw.weight \t torch.Size([384, 64, 1, 1])\n",
      "blocks.2.2.bn1.weight \t torch.Size([384])\n",
      "blocks.2.2.bn1.bias \t torch.Size([384])\n",
      "blocks.2.2.bn1.running_mean \t torch.Size([384])\n",
      "blocks.2.2.bn1.running_var \t torch.Size([384])\n",
      "blocks.2.2.bn1.num_batches_tracked \t torch.Size([])\n",
      "blocks.2.2.conv_dw.weight \t torch.Size([384, 1, 5, 5])\n",
      "blocks.2.2.bn2.weight \t torch.Size([384])\n",
      "blocks.2.2.bn2.bias \t torch.Size([384])\n",
      "blocks.2.2.bn2.running_mean \t torch.Size([384])\n",
      "blocks.2.2.bn2.running_var \t torch.Size([384])\n",
      "blocks.2.2.bn2.num_batches_tracked \t torch.Size([])\n",
      "blocks.2.2.se.conv_reduce.weight \t torch.Size([16, 384, 1, 1])\n",
      "blocks.2.2.se.conv_reduce.bias \t torch.Size([16])\n",
      "blocks.2.2.se.conv_expand.weight \t torch.Size([384, 16, 1, 1])\n",
      "blocks.2.2.se.conv_expand.bias \t torch.Size([384])\n",
      "blocks.2.2.conv_pwl.weight \t torch.Size([64, 384, 1, 1])\n",
      "blocks.2.2.bn3.weight \t torch.Size([64])\n",
      "blocks.2.2.bn3.bias \t torch.Size([64])\n",
      "blocks.2.2.bn3.running_mean \t torch.Size([64])\n",
      "blocks.2.2.bn3.running_var \t torch.Size([64])\n",
      "blocks.2.2.bn3.num_batches_tracked \t torch.Size([])\n",
      "blocks.2.3.conv_pw.weight \t torch.Size([384, 64, 1, 1])\n",
      "blocks.2.3.bn1.weight \t torch.Size([384])\n",
      "blocks.2.3.bn1.bias \t torch.Size([384])\n",
      "blocks.2.3.bn1.running_mean \t torch.Size([384])\n",
      "blocks.2.3.bn1.running_var \t torch.Size([384])\n",
      "blocks.2.3.bn1.num_batches_tracked \t torch.Size([])\n",
      "blocks.2.3.conv_dw.weight \t torch.Size([384, 1, 5, 5])\n",
      "blocks.2.3.bn2.weight \t torch.Size([384])\n",
      "blocks.2.3.bn2.bias \t torch.Size([384])\n",
      "blocks.2.3.bn2.running_mean \t torch.Size([384])\n",
      "blocks.2.3.bn2.running_var \t torch.Size([384])\n",
      "blocks.2.3.bn2.num_batches_tracked \t torch.Size([])\n",
      "blocks.2.3.se.conv_reduce.weight \t torch.Size([16, 384, 1, 1])\n",
      "blocks.2.3.se.conv_reduce.bias \t torch.Size([16])\n",
      "blocks.2.3.se.conv_expand.weight \t torch.Size([384, 16, 1, 1])\n",
      "blocks.2.3.se.conv_expand.bias \t torch.Size([384])\n",
      "blocks.2.3.conv_pwl.weight \t torch.Size([64, 384, 1, 1])\n",
      "blocks.2.3.bn3.weight \t torch.Size([64])\n",
      "blocks.2.3.bn3.bias \t torch.Size([64])\n",
      "blocks.2.3.bn3.running_mean \t torch.Size([64])\n",
      "blocks.2.3.bn3.running_var \t torch.Size([64])\n",
      "blocks.2.3.bn3.num_batches_tracked \t torch.Size([])\n",
      "blocks.2.4.conv_pw.weight \t torch.Size([384, 64, 1, 1])\n",
      "blocks.2.4.bn1.weight \t torch.Size([384])\n",
      "blocks.2.4.bn1.bias \t torch.Size([384])\n",
      "blocks.2.4.bn1.running_mean \t torch.Size([384])\n",
      "blocks.2.4.bn1.running_var \t torch.Size([384])\n",
      "blocks.2.4.bn1.num_batches_tracked \t torch.Size([])\n",
      "blocks.2.4.conv_dw.weight \t torch.Size([384, 1, 5, 5])\n",
      "blocks.2.4.bn2.weight \t torch.Size([384])\n",
      "blocks.2.4.bn2.bias \t torch.Size([384])\n",
      "blocks.2.4.bn2.running_mean \t torch.Size([384])\n",
      "blocks.2.4.bn2.running_var \t torch.Size([384])\n",
      "blocks.2.4.bn2.num_batches_tracked \t torch.Size([])\n",
      "blocks.2.4.se.conv_reduce.weight \t torch.Size([16, 384, 1, 1])\n",
      "blocks.2.4.se.conv_reduce.bias \t torch.Size([16])\n",
      "blocks.2.4.se.conv_expand.weight \t torch.Size([384, 16, 1, 1])\n",
      "blocks.2.4.se.conv_expand.bias \t torch.Size([384])\n",
      "blocks.2.4.conv_pwl.weight \t torch.Size([64, 384, 1, 1])\n",
      "blocks.2.4.bn3.weight \t torch.Size([64])\n",
      "blocks.2.4.bn3.bias \t torch.Size([64])\n",
      "blocks.2.4.bn3.running_mean \t torch.Size([64])\n",
      "blocks.2.4.bn3.running_var \t torch.Size([64])\n",
      "blocks.2.4.bn3.num_batches_tracked \t torch.Size([])\n",
      "blocks.3.0.conv_pw.weight \t torch.Size([384, 64, 1, 1])\n",
      "blocks.3.0.bn1.weight \t torch.Size([384])\n",
      "blocks.3.0.bn1.bias \t torch.Size([384])\n",
      "blocks.3.0.bn1.running_mean \t torch.Size([384])\n",
      "blocks.3.0.bn1.running_var \t torch.Size([384])\n",
      "blocks.3.0.bn1.num_batches_tracked \t torch.Size([])\n",
      "blocks.3.0.conv_dw.weight \t torch.Size([384, 1, 3, 3])\n",
      "blocks.3.0.bn2.weight \t torch.Size([384])\n",
      "blocks.3.0.bn2.bias \t torch.Size([384])\n",
      "blocks.3.0.bn2.running_mean \t torch.Size([384])\n",
      "blocks.3.0.bn2.running_var \t torch.Size([384])\n",
      "blocks.3.0.bn2.num_batches_tracked \t torch.Size([])\n",
      "blocks.3.0.se.conv_reduce.weight \t torch.Size([16, 384, 1, 1])\n",
      "blocks.3.0.se.conv_reduce.bias \t torch.Size([16])\n",
      "blocks.3.0.se.conv_expand.weight \t torch.Size([384, 16, 1, 1])\n",
      "blocks.3.0.se.conv_expand.bias \t torch.Size([384])\n",
      "blocks.3.0.conv_pwl.weight \t torch.Size([128, 384, 1, 1])\n",
      "blocks.3.0.bn3.weight \t torch.Size([128])\n",
      "blocks.3.0.bn3.bias \t torch.Size([128])\n",
      "blocks.3.0.bn3.running_mean \t torch.Size([128])\n",
      "blocks.3.0.bn3.running_var \t torch.Size([128])\n",
      "blocks.3.0.bn3.num_batches_tracked \t torch.Size([])\n",
      "blocks.3.1.conv_pw.weight \t torch.Size([768, 128, 1, 1])\n",
      "blocks.3.1.bn1.weight \t torch.Size([768])\n",
      "blocks.3.1.bn1.bias \t torch.Size([768])\n",
      "blocks.3.1.bn1.running_mean \t torch.Size([768])\n",
      "blocks.3.1.bn1.running_var \t torch.Size([768])\n",
      "blocks.3.1.bn1.num_batches_tracked \t torch.Size([])\n",
      "blocks.3.1.conv_dw.weight \t torch.Size([768, 1, 3, 3])\n",
      "blocks.3.1.bn2.weight \t torch.Size([768])\n",
      "blocks.3.1.bn2.bias \t torch.Size([768])\n",
      "blocks.3.1.bn2.running_mean \t torch.Size([768])\n",
      "blocks.3.1.bn2.running_var \t torch.Size([768])\n",
      "blocks.3.1.bn2.num_batches_tracked \t torch.Size([])\n",
      "blocks.3.1.se.conv_reduce.weight \t torch.Size([32, 768, 1, 1])\n",
      "blocks.3.1.se.conv_reduce.bias \t torch.Size([32])\n",
      "blocks.3.1.se.conv_expand.weight \t torch.Size([768, 32, 1, 1])\n",
      "blocks.3.1.se.conv_expand.bias \t torch.Size([768])\n",
      "blocks.3.1.conv_pwl.weight \t torch.Size([128, 768, 1, 1])\n",
      "blocks.3.1.bn3.weight \t torch.Size([128])\n",
      "blocks.3.1.bn3.bias \t torch.Size([128])\n",
      "blocks.3.1.bn3.running_mean \t torch.Size([128])\n",
      "blocks.3.1.bn3.running_var \t torch.Size([128])\n",
      "blocks.3.1.bn3.num_batches_tracked \t torch.Size([])\n",
      "blocks.3.2.conv_pw.weight \t torch.Size([768, 128, 1, 1])\n",
      "blocks.3.2.bn1.weight \t torch.Size([768])\n",
      "blocks.3.2.bn1.bias \t torch.Size([768])\n",
      "blocks.3.2.bn1.running_mean \t torch.Size([768])\n",
      "blocks.3.2.bn1.running_var \t torch.Size([768])\n",
      "blocks.3.2.bn1.num_batches_tracked \t torch.Size([])\n",
      "blocks.3.2.conv_dw.weight \t torch.Size([768, 1, 3, 3])\n",
      "blocks.3.2.bn2.weight \t torch.Size([768])\n",
      "blocks.3.2.bn2.bias \t torch.Size([768])\n",
      "blocks.3.2.bn2.running_mean \t torch.Size([768])\n",
      "blocks.3.2.bn2.running_var \t torch.Size([768])\n",
      "blocks.3.2.bn2.num_batches_tracked \t torch.Size([])\n",
      "blocks.3.2.se.conv_reduce.weight \t torch.Size([32, 768, 1, 1])\n",
      "blocks.3.2.se.conv_reduce.bias \t torch.Size([32])\n",
      "blocks.3.2.se.conv_expand.weight \t torch.Size([768, 32, 1, 1])\n",
      "blocks.3.2.se.conv_expand.bias \t torch.Size([768])\n",
      "blocks.3.2.conv_pwl.weight \t torch.Size([128, 768, 1, 1])\n",
      "blocks.3.2.bn3.weight \t torch.Size([128])\n",
      "blocks.3.2.bn3.bias \t torch.Size([128])\n",
      "blocks.3.2.bn3.running_mean \t torch.Size([128])\n",
      "blocks.3.2.bn3.running_var \t torch.Size([128])\n",
      "blocks.3.2.bn3.num_batches_tracked \t torch.Size([])\n",
      "blocks.3.3.conv_pw.weight \t torch.Size([768, 128, 1, 1])\n",
      "blocks.3.3.bn1.weight \t torch.Size([768])\n",
      "blocks.3.3.bn1.bias \t torch.Size([768])\n",
      "blocks.3.3.bn1.running_mean \t torch.Size([768])\n",
      "blocks.3.3.bn1.running_var \t torch.Size([768])\n",
      "blocks.3.3.bn1.num_batches_tracked \t torch.Size([])\n",
      "blocks.3.3.conv_dw.weight \t torch.Size([768, 1, 3, 3])\n",
      "blocks.3.3.bn2.weight \t torch.Size([768])\n",
      "blocks.3.3.bn2.bias \t torch.Size([768])\n",
      "blocks.3.3.bn2.running_mean \t torch.Size([768])\n",
      "blocks.3.3.bn2.running_var \t torch.Size([768])\n",
      "blocks.3.3.bn2.num_batches_tracked \t torch.Size([])\n",
      "blocks.3.3.se.conv_reduce.weight \t torch.Size([32, 768, 1, 1])\n",
      "blocks.3.3.se.conv_reduce.bias \t torch.Size([32])\n",
      "blocks.3.3.se.conv_expand.weight \t torch.Size([768, 32, 1, 1])\n",
      "blocks.3.3.se.conv_expand.bias \t torch.Size([768])\n",
      "blocks.3.3.conv_pwl.weight \t torch.Size([128, 768, 1, 1])\n",
      "blocks.3.3.bn3.weight \t torch.Size([128])\n",
      "blocks.3.3.bn3.bias \t torch.Size([128])\n",
      "blocks.3.3.bn3.running_mean \t torch.Size([128])\n",
      "blocks.3.3.bn3.running_var \t torch.Size([128])\n",
      "blocks.3.3.bn3.num_batches_tracked \t torch.Size([])\n",
      "blocks.3.4.conv_pw.weight \t torch.Size([768, 128, 1, 1])\n",
      "blocks.3.4.bn1.weight \t torch.Size([768])\n",
      "blocks.3.4.bn1.bias \t torch.Size([768])\n",
      "blocks.3.4.bn1.running_mean \t torch.Size([768])\n",
      "blocks.3.4.bn1.running_var \t torch.Size([768])\n",
      "blocks.3.4.bn1.num_batches_tracked \t torch.Size([])\n",
      "blocks.3.4.conv_dw.weight \t torch.Size([768, 1, 3, 3])\n",
      "blocks.3.4.bn2.weight \t torch.Size([768])\n",
      "blocks.3.4.bn2.bias \t torch.Size([768])\n",
      "blocks.3.4.bn2.running_mean \t torch.Size([768])\n",
      "blocks.3.4.bn2.running_var \t torch.Size([768])\n",
      "blocks.3.4.bn2.num_batches_tracked \t torch.Size([])\n",
      "blocks.3.4.se.conv_reduce.weight \t torch.Size([32, 768, 1, 1])\n",
      "blocks.3.4.se.conv_reduce.bias \t torch.Size([32])\n",
      "blocks.3.4.se.conv_expand.weight \t torch.Size([768, 32, 1, 1])\n",
      "blocks.3.4.se.conv_expand.bias \t torch.Size([768])\n",
      "blocks.3.4.conv_pwl.weight \t torch.Size([128, 768, 1, 1])\n",
      "blocks.3.4.bn3.weight \t torch.Size([128])\n"
     ]
    },
    {
     "name": "stdout",
     "output_type": "stream",
     "text": [
      "blocks.3.4.bn3.bias \t torch.Size([128])\n",
      "blocks.3.4.bn3.running_mean \t torch.Size([128])\n",
      "blocks.3.4.bn3.running_var \t torch.Size([128])\n",
      "blocks.3.4.bn3.num_batches_tracked \t torch.Size([])\n",
      "blocks.3.5.conv_pw.weight \t torch.Size([768, 128, 1, 1])\n",
      "blocks.3.5.bn1.weight \t torch.Size([768])\n",
      "blocks.3.5.bn1.bias \t torch.Size([768])\n",
      "blocks.3.5.bn1.running_mean \t torch.Size([768])\n",
      "blocks.3.5.bn1.running_var \t torch.Size([768])\n",
      "blocks.3.5.bn1.num_batches_tracked \t torch.Size([])\n",
      "blocks.3.5.conv_dw.weight \t torch.Size([768, 1, 3, 3])\n",
      "blocks.3.5.bn2.weight \t torch.Size([768])\n",
      "blocks.3.5.bn2.bias \t torch.Size([768])\n",
      "blocks.3.5.bn2.running_mean \t torch.Size([768])\n",
      "blocks.3.5.bn2.running_var \t torch.Size([768])\n",
      "blocks.3.5.bn2.num_batches_tracked \t torch.Size([])\n",
      "blocks.3.5.se.conv_reduce.weight \t torch.Size([32, 768, 1, 1])\n",
      "blocks.3.5.se.conv_reduce.bias \t torch.Size([32])\n",
      "blocks.3.5.se.conv_expand.weight \t torch.Size([768, 32, 1, 1])\n",
      "blocks.3.5.se.conv_expand.bias \t torch.Size([768])\n",
      "blocks.3.5.conv_pwl.weight \t torch.Size([128, 768, 1, 1])\n",
      "blocks.3.5.bn3.weight \t torch.Size([128])\n",
      "blocks.3.5.bn3.bias \t torch.Size([128])\n",
      "blocks.3.5.bn3.running_mean \t torch.Size([128])\n",
      "blocks.3.5.bn3.running_var \t torch.Size([128])\n",
      "blocks.3.5.bn3.num_batches_tracked \t torch.Size([])\n",
      "blocks.3.6.conv_pw.weight \t torch.Size([768, 128, 1, 1])\n",
      "blocks.3.6.bn1.weight \t torch.Size([768])\n",
      "blocks.3.6.bn1.bias \t torch.Size([768])\n",
      "blocks.3.6.bn1.running_mean \t torch.Size([768])\n",
      "blocks.3.6.bn1.running_var \t torch.Size([768])\n",
      "blocks.3.6.bn1.num_batches_tracked \t torch.Size([])\n",
      "blocks.3.6.conv_dw.weight \t torch.Size([768, 1, 3, 3])\n",
      "blocks.3.6.bn2.weight \t torch.Size([768])\n",
      "blocks.3.6.bn2.bias \t torch.Size([768])\n",
      "blocks.3.6.bn2.running_mean \t torch.Size([768])\n",
      "blocks.3.6.bn2.running_var \t torch.Size([768])\n",
      "blocks.3.6.bn2.num_batches_tracked \t torch.Size([])\n",
      "blocks.3.6.se.conv_reduce.weight \t torch.Size([32, 768, 1, 1])\n",
      "blocks.3.6.se.conv_reduce.bias \t torch.Size([32])\n",
      "blocks.3.6.se.conv_expand.weight \t torch.Size([768, 32, 1, 1])\n",
      "blocks.3.6.se.conv_expand.bias \t torch.Size([768])\n",
      "blocks.3.6.conv_pwl.weight \t torch.Size([128, 768, 1, 1])\n",
      "blocks.3.6.bn3.weight \t torch.Size([128])\n",
      "blocks.3.6.bn3.bias \t torch.Size([128])\n",
      "blocks.3.6.bn3.running_mean \t torch.Size([128])\n",
      "blocks.3.6.bn3.running_var \t torch.Size([128])\n",
      "blocks.3.6.bn3.num_batches_tracked \t torch.Size([])\n",
      "blocks.4.0.conv_pw.weight \t torch.Size([768, 128, 1, 1])\n",
      "blocks.4.0.bn1.weight \t torch.Size([768])\n",
      "blocks.4.0.bn1.bias \t torch.Size([768])\n",
      "blocks.4.0.bn1.running_mean \t torch.Size([768])\n",
      "blocks.4.0.bn1.running_var \t torch.Size([768])\n",
      "blocks.4.0.bn1.num_batches_tracked \t torch.Size([])\n",
      "blocks.4.0.conv_dw.weight \t torch.Size([768, 1, 5, 5])\n",
      "blocks.4.0.bn2.weight \t torch.Size([768])\n",
      "blocks.4.0.bn2.bias \t torch.Size([768])\n",
      "blocks.4.0.bn2.running_mean \t torch.Size([768])\n",
      "blocks.4.0.bn2.running_var \t torch.Size([768])\n",
      "blocks.4.0.bn2.num_batches_tracked \t torch.Size([])\n",
      "blocks.4.0.se.conv_reduce.weight \t torch.Size([32, 768, 1, 1])\n",
      "blocks.4.0.se.conv_reduce.bias \t torch.Size([32])\n",
      "blocks.4.0.se.conv_expand.weight \t torch.Size([768, 32, 1, 1])\n",
      "blocks.4.0.se.conv_expand.bias \t torch.Size([768])\n",
      "blocks.4.0.conv_pwl.weight \t torch.Size([176, 768, 1, 1])\n",
      "blocks.4.0.bn3.weight \t torch.Size([176])\n",
      "blocks.4.0.bn3.bias \t torch.Size([176])\n",
      "blocks.4.0.bn3.running_mean \t torch.Size([176])\n",
      "blocks.4.0.bn3.running_var \t torch.Size([176])\n",
      "blocks.4.0.bn3.num_batches_tracked \t torch.Size([])\n",
      "blocks.4.1.conv_pw.weight \t torch.Size([1056, 176, 1, 1])\n",
      "blocks.4.1.bn1.weight \t torch.Size([1056])\n",
      "blocks.4.1.bn1.bias \t torch.Size([1056])\n",
      "blocks.4.1.bn1.running_mean \t torch.Size([1056])\n",
      "blocks.4.1.bn1.running_var \t torch.Size([1056])\n",
      "blocks.4.1.bn1.num_batches_tracked \t torch.Size([])\n",
      "blocks.4.1.conv_dw.weight \t torch.Size([1056, 1, 5, 5])\n",
      "blocks.4.1.bn2.weight \t torch.Size([1056])\n",
      "blocks.4.1.bn2.bias \t torch.Size([1056])\n",
      "blocks.4.1.bn2.running_mean \t torch.Size([1056])\n",
      "blocks.4.1.bn2.running_var \t torch.Size([1056])\n",
      "blocks.4.1.bn2.num_batches_tracked \t torch.Size([])\n",
      "blocks.4.1.se.conv_reduce.weight \t torch.Size([44, 1056, 1, 1])\n",
      "blocks.4.1.se.conv_reduce.bias \t torch.Size([44])\n",
      "blocks.4.1.se.conv_expand.weight \t torch.Size([1056, 44, 1, 1])\n",
      "blocks.4.1.se.conv_expand.bias \t torch.Size([1056])\n",
      "blocks.4.1.conv_pwl.weight \t torch.Size([176, 1056, 1, 1])\n",
      "blocks.4.1.bn3.weight \t torch.Size([176])\n",
      "blocks.4.1.bn3.bias \t torch.Size([176])\n",
      "blocks.4.1.bn3.running_mean \t torch.Size([176])\n",
      "blocks.4.1.bn3.running_var \t torch.Size([176])\n",
      "blocks.4.1.bn3.num_batches_tracked \t torch.Size([])\n",
      "blocks.4.2.conv_pw.weight \t torch.Size([1056, 176, 1, 1])\n",
      "blocks.4.2.bn1.weight \t torch.Size([1056])\n",
      "blocks.4.2.bn1.bias \t torch.Size([1056])\n",
      "blocks.4.2.bn1.running_mean \t torch.Size([1056])\n",
      "blocks.4.2.bn1.running_var \t torch.Size([1056])\n",
      "blocks.4.2.bn1.num_batches_tracked \t torch.Size([])\n",
      "blocks.4.2.conv_dw.weight \t torch.Size([1056, 1, 5, 5])\n",
      "blocks.4.2.bn2.weight \t torch.Size([1056])\n",
      "blocks.4.2.bn2.bias \t torch.Size([1056])\n",
      "blocks.4.2.bn2.running_mean \t torch.Size([1056])\n",
      "blocks.4.2.bn2.running_var \t torch.Size([1056])\n",
      "blocks.4.2.bn2.num_batches_tracked \t torch.Size([])\n",
      "blocks.4.2.se.conv_reduce.weight \t torch.Size([44, 1056, 1, 1])\n",
      "blocks.4.2.se.conv_reduce.bias \t torch.Size([44])\n",
      "blocks.4.2.se.conv_expand.weight \t torch.Size([1056, 44, 1, 1])\n",
      "blocks.4.2.se.conv_expand.bias \t torch.Size([1056])\n",
      "blocks.4.2.conv_pwl.weight \t torch.Size([176, 1056, 1, 1])\n",
      "blocks.4.2.bn3.weight \t torch.Size([176])\n",
      "blocks.4.2.bn3.bias \t torch.Size([176])\n",
      "blocks.4.2.bn3.running_mean \t torch.Size([176])\n",
      "blocks.4.2.bn3.running_var \t torch.Size([176])\n",
      "blocks.4.2.bn3.num_batches_tracked \t torch.Size([])\n",
      "blocks.4.3.conv_pw.weight \t torch.Size([1056, 176, 1, 1])\n",
      "blocks.4.3.bn1.weight \t torch.Size([1056])\n",
      "blocks.4.3.bn1.bias \t torch.Size([1056])\n",
      "blocks.4.3.bn1.running_mean \t torch.Size([1056])\n",
      "blocks.4.3.bn1.running_var \t torch.Size([1056])\n",
      "blocks.4.3.bn1.num_batches_tracked \t torch.Size([])\n",
      "blocks.4.3.conv_dw.weight \t torch.Size([1056, 1, 5, 5])\n",
      "blocks.4.3.bn2.weight \t torch.Size([1056])\n",
      "blocks.4.3.bn2.bias \t torch.Size([1056])\n",
      "blocks.4.3.bn2.running_mean \t torch.Size([1056])\n",
      "blocks.4.3.bn2.running_var \t torch.Size([1056])\n",
      "blocks.4.3.bn2.num_batches_tracked \t torch.Size([])\n",
      "blocks.4.3.se.conv_reduce.weight \t torch.Size([44, 1056, 1, 1])\n",
      "blocks.4.3.se.conv_reduce.bias \t torch.Size([44])\n",
      "blocks.4.3.se.conv_expand.weight \t torch.Size([1056, 44, 1, 1])\n",
      "blocks.4.3.se.conv_expand.bias \t torch.Size([1056])\n",
      "blocks.4.3.conv_pwl.weight \t torch.Size([176, 1056, 1, 1])\n",
      "blocks.4.3.bn3.weight \t torch.Size([176])\n",
      "blocks.4.3.bn3.bias \t torch.Size([176])\n",
      "blocks.4.3.bn3.running_mean \t torch.Size([176])\n",
      "blocks.4.3.bn3.running_var \t torch.Size([176])\n",
      "blocks.4.3.bn3.num_batches_tracked \t torch.Size([])\n",
      "blocks.4.4.conv_pw.weight \t torch.Size([1056, 176, 1, 1])\n",
      "blocks.4.4.bn1.weight \t torch.Size([1056])\n",
      "blocks.4.4.bn1.bias \t torch.Size([1056])\n",
      "blocks.4.4.bn1.running_mean \t torch.Size([1056])\n",
      "blocks.4.4.bn1.running_var \t torch.Size([1056])\n",
      "blocks.4.4.bn1.num_batches_tracked \t torch.Size([])\n",
      "blocks.4.4.conv_dw.weight \t torch.Size([1056, 1, 5, 5])\n",
      "blocks.4.4.bn2.weight \t torch.Size([1056])\n",
      "blocks.4.4.bn2.bias \t torch.Size([1056])\n",
      "blocks.4.4.bn2.running_mean \t torch.Size([1056])\n",
      "blocks.4.4.bn2.running_var \t torch.Size([1056])\n",
      "blocks.4.4.bn2.num_batches_tracked \t torch.Size([])\n",
      "blocks.4.4.se.conv_reduce.weight \t torch.Size([44, 1056, 1, 1])\n",
      "blocks.4.4.se.conv_reduce.bias \t torch.Size([44])\n",
      "blocks.4.4.se.conv_expand.weight \t torch.Size([1056, 44, 1, 1])\n",
      "blocks.4.4.se.conv_expand.bias \t torch.Size([1056])\n",
      "blocks.4.4.conv_pwl.weight \t torch.Size([176, 1056, 1, 1])\n",
      "blocks.4.4.bn3.weight \t torch.Size([176])\n",
      "blocks.4.4.bn3.bias \t torch.Size([176])\n",
      "blocks.4.4.bn3.running_mean \t torch.Size([176])\n",
      "blocks.4.4.bn3.running_var \t torch.Size([176])\n",
      "blocks.4.4.bn3.num_batches_tracked \t torch.Size([])\n",
      "blocks.4.5.conv_pw.weight \t torch.Size([1056, 176, 1, 1])\n",
      "blocks.4.5.bn1.weight \t torch.Size([1056])\n",
      "blocks.4.5.bn1.bias \t torch.Size([1056])\n",
      "blocks.4.5.bn1.running_mean \t torch.Size([1056])\n",
      "blocks.4.5.bn1.running_var \t torch.Size([1056])\n",
      "blocks.4.5.bn1.num_batches_tracked \t torch.Size([])\n",
      "blocks.4.5.conv_dw.weight \t torch.Size([1056, 1, 5, 5])\n",
      "blocks.4.5.bn2.weight \t torch.Size([1056])\n",
      "blocks.4.5.bn2.bias \t torch.Size([1056])\n",
      "blocks.4.5.bn2.running_mean \t torch.Size([1056])\n",
      "blocks.4.5.bn2.running_var \t torch.Size([1056])\n",
      "blocks.4.5.bn2.num_batches_tracked \t torch.Size([])\n",
      "blocks.4.5.se.conv_reduce.weight \t torch.Size([44, 1056, 1, 1])\n",
      "blocks.4.5.se.conv_reduce.bias \t torch.Size([44])\n",
      "blocks.4.5.se.conv_expand.weight \t torch.Size([1056, 44, 1, 1])\n",
      "blocks.4.5.se.conv_expand.bias \t torch.Size([1056])\n",
      "blocks.4.5.conv_pwl.weight \t torch.Size([176, 1056, 1, 1])\n",
      "blocks.4.5.bn3.weight \t torch.Size([176])\n",
      "blocks.4.5.bn3.bias \t torch.Size([176])\n",
      "blocks.4.5.bn3.running_mean \t torch.Size([176])\n",
      "blocks.4.5.bn3.running_var \t torch.Size([176])\n",
      "blocks.4.5.bn3.num_batches_tracked \t torch.Size([])\n",
      "blocks.4.6.conv_pw.weight \t torch.Size([1056, 176, 1, 1])\n",
      "blocks.4.6.bn1.weight \t torch.Size([1056])\n",
      "blocks.4.6.bn1.bias \t torch.Size([1056])\n",
      "blocks.4.6.bn1.running_mean \t torch.Size([1056])\n",
      "blocks.4.6.bn1.running_var \t torch.Size([1056])\n",
      "blocks.4.6.bn1.num_batches_tracked \t torch.Size([])\n",
      "blocks.4.6.conv_dw.weight \t torch.Size([1056, 1, 5, 5])\n",
      "blocks.4.6.bn2.weight \t torch.Size([1056])\n",
      "blocks.4.6.bn2.bias \t torch.Size([1056])\n",
      "blocks.4.6.bn2.running_mean \t torch.Size([1056])\n",
      "blocks.4.6.bn2.running_var \t torch.Size([1056])\n",
      "blocks.4.6.bn2.num_batches_tracked \t torch.Size([])\n",
      "blocks.4.6.se.conv_reduce.weight \t torch.Size([44, 1056, 1, 1])\n",
      "blocks.4.6.se.conv_reduce.bias \t torch.Size([44])\n",
      "blocks.4.6.se.conv_expand.weight \t torch.Size([1056, 44, 1, 1])\n",
      "blocks.4.6.se.conv_expand.bias \t torch.Size([1056])\n",
      "blocks.4.6.conv_pwl.weight \t torch.Size([176, 1056, 1, 1])\n",
      "blocks.4.6.bn3.weight \t torch.Size([176])\n",
      "blocks.4.6.bn3.bias \t torch.Size([176])\n",
      "blocks.4.6.bn3.running_mean \t torch.Size([176])\n",
      "blocks.4.6.bn3.running_var \t torch.Size([176])\n"
     ]
    },
    {
     "name": "stdout",
     "output_type": "stream",
     "text": [
      "blocks.4.6.bn3.num_batches_tracked \t torch.Size([])\n",
      "blocks.5.0.conv_pw.weight \t torch.Size([1056, 176, 1, 1])\n",
      "blocks.5.0.bn1.weight \t torch.Size([1056])\n",
      "blocks.5.0.bn1.bias \t torch.Size([1056])\n",
      "blocks.5.0.bn1.running_mean \t torch.Size([1056])\n",
      "blocks.5.0.bn1.running_var \t torch.Size([1056])\n",
      "blocks.5.0.bn1.num_batches_tracked \t torch.Size([])\n",
      "blocks.5.0.conv_dw.weight \t torch.Size([1056, 1, 5, 5])\n",
      "blocks.5.0.bn2.weight \t torch.Size([1056])\n",
      "blocks.5.0.bn2.bias \t torch.Size([1056])\n",
      "blocks.5.0.bn2.running_mean \t torch.Size([1056])\n",
      "blocks.5.0.bn2.running_var \t torch.Size([1056])\n",
      "blocks.5.0.bn2.num_batches_tracked \t torch.Size([])\n",
      "blocks.5.0.se.conv_reduce.weight \t torch.Size([44, 1056, 1, 1])\n",
      "blocks.5.0.se.conv_reduce.bias \t torch.Size([44])\n",
      "blocks.5.0.se.conv_expand.weight \t torch.Size([1056, 44, 1, 1])\n",
      "blocks.5.0.se.conv_expand.bias \t torch.Size([1056])\n",
      "blocks.5.0.conv_pwl.weight \t torch.Size([304, 1056, 1, 1])\n",
      "blocks.5.0.bn3.weight \t torch.Size([304])\n",
      "blocks.5.0.bn3.bias \t torch.Size([304])\n",
      "blocks.5.0.bn3.running_mean \t torch.Size([304])\n",
      "blocks.5.0.bn3.running_var \t torch.Size([304])\n",
      "blocks.5.0.bn3.num_batches_tracked \t torch.Size([])\n",
      "blocks.5.1.conv_pw.weight \t torch.Size([1824, 304, 1, 1])\n",
      "blocks.5.1.bn1.weight \t torch.Size([1824])\n",
      "blocks.5.1.bn1.bias \t torch.Size([1824])\n",
      "blocks.5.1.bn1.running_mean \t torch.Size([1824])\n",
      "blocks.5.1.bn1.running_var \t torch.Size([1824])\n",
      "blocks.5.1.bn1.num_batches_tracked \t torch.Size([])\n",
      "blocks.5.1.conv_dw.weight \t torch.Size([1824, 1, 5, 5])\n",
      "blocks.5.1.bn2.weight \t torch.Size([1824])\n",
      "blocks.5.1.bn2.bias \t torch.Size([1824])\n",
      "blocks.5.1.bn2.running_mean \t torch.Size([1824])\n",
      "blocks.5.1.bn2.running_var \t torch.Size([1824])\n",
      "blocks.5.1.bn2.num_batches_tracked \t torch.Size([])\n",
      "blocks.5.1.se.conv_reduce.weight \t torch.Size([76, 1824, 1, 1])\n",
      "blocks.5.1.se.conv_reduce.bias \t torch.Size([76])\n",
      "blocks.5.1.se.conv_expand.weight \t torch.Size([1824, 76, 1, 1])\n",
      "blocks.5.1.se.conv_expand.bias \t torch.Size([1824])\n",
      "blocks.5.1.conv_pwl.weight \t torch.Size([304, 1824, 1, 1])\n",
      "blocks.5.1.bn3.weight \t torch.Size([304])\n",
      "blocks.5.1.bn3.bias \t torch.Size([304])\n",
      "blocks.5.1.bn3.running_mean \t torch.Size([304])\n",
      "blocks.5.1.bn3.running_var \t torch.Size([304])\n",
      "blocks.5.1.bn3.num_batches_tracked \t torch.Size([])\n",
      "blocks.5.2.conv_pw.weight \t torch.Size([1824, 304, 1, 1])\n",
      "blocks.5.2.bn1.weight \t torch.Size([1824])\n",
      "blocks.5.2.bn1.bias \t torch.Size([1824])\n",
      "blocks.5.2.bn1.running_mean \t torch.Size([1824])\n",
      "blocks.5.2.bn1.running_var \t torch.Size([1824])\n",
      "blocks.5.2.bn1.num_batches_tracked \t torch.Size([])\n",
      "blocks.5.2.conv_dw.weight \t torch.Size([1824, 1, 5, 5])\n",
      "blocks.5.2.bn2.weight \t torch.Size([1824])\n",
      "blocks.5.2.bn2.bias \t torch.Size([1824])\n",
      "blocks.5.2.bn2.running_mean \t torch.Size([1824])\n",
      "blocks.5.2.bn2.running_var \t torch.Size([1824])\n",
      "blocks.5.2.bn2.num_batches_tracked \t torch.Size([])\n",
      "blocks.5.2.se.conv_reduce.weight \t torch.Size([76, 1824, 1, 1])\n",
      "blocks.5.2.se.conv_reduce.bias \t torch.Size([76])\n",
      "blocks.5.2.se.conv_expand.weight \t torch.Size([1824, 76, 1, 1])\n",
      "blocks.5.2.se.conv_expand.bias \t torch.Size([1824])\n",
      "blocks.5.2.conv_pwl.weight \t torch.Size([304, 1824, 1, 1])\n",
      "blocks.5.2.bn3.weight \t torch.Size([304])\n",
      "blocks.5.2.bn3.bias \t torch.Size([304])\n",
      "blocks.5.2.bn3.running_mean \t torch.Size([304])\n",
      "blocks.5.2.bn3.running_var \t torch.Size([304])\n",
      "blocks.5.2.bn3.num_batches_tracked \t torch.Size([])\n",
      "blocks.5.3.conv_pw.weight \t torch.Size([1824, 304, 1, 1])\n",
      "blocks.5.3.bn1.weight \t torch.Size([1824])\n",
      "blocks.5.3.bn1.bias \t torch.Size([1824])\n",
      "blocks.5.3.bn1.running_mean \t torch.Size([1824])\n",
      "blocks.5.3.bn1.running_var \t torch.Size([1824])\n",
      "blocks.5.3.bn1.num_batches_tracked \t torch.Size([])\n",
      "blocks.5.3.conv_dw.weight \t torch.Size([1824, 1, 5, 5])\n",
      "blocks.5.3.bn2.weight \t torch.Size([1824])\n",
      "blocks.5.3.bn2.bias \t torch.Size([1824])\n",
      "blocks.5.3.bn2.running_mean \t torch.Size([1824])\n",
      "blocks.5.3.bn2.running_var \t torch.Size([1824])\n",
      "blocks.5.3.bn2.num_batches_tracked \t torch.Size([])\n",
      "blocks.5.3.se.conv_reduce.weight \t torch.Size([76, 1824, 1, 1])\n",
      "blocks.5.3.se.conv_reduce.bias \t torch.Size([76])\n",
      "blocks.5.3.se.conv_expand.weight \t torch.Size([1824, 76, 1, 1])\n",
      "blocks.5.3.se.conv_expand.bias \t torch.Size([1824])\n",
      "blocks.5.3.conv_pwl.weight \t torch.Size([304, 1824, 1, 1])\n",
      "blocks.5.3.bn3.weight \t torch.Size([304])\n",
      "blocks.5.3.bn3.bias \t torch.Size([304])\n",
      "blocks.5.3.bn3.running_mean \t torch.Size([304])\n",
      "blocks.5.3.bn3.running_var \t torch.Size([304])\n",
      "blocks.5.3.bn3.num_batches_tracked \t torch.Size([])\n",
      "blocks.5.4.conv_pw.weight \t torch.Size([1824, 304, 1, 1])\n",
      "blocks.5.4.bn1.weight \t torch.Size([1824])\n",
      "blocks.5.4.bn1.bias \t torch.Size([1824])\n",
      "blocks.5.4.bn1.running_mean \t torch.Size([1824])\n",
      "blocks.5.4.bn1.running_var \t torch.Size([1824])\n",
      "blocks.5.4.bn1.num_batches_tracked \t torch.Size([])\n",
      "blocks.5.4.conv_dw.weight \t torch.Size([1824, 1, 5, 5])\n",
      "blocks.5.4.bn2.weight \t torch.Size([1824])\n",
      "blocks.5.4.bn2.bias \t torch.Size([1824])\n",
      "blocks.5.4.bn2.running_mean \t torch.Size([1824])\n",
      "blocks.5.4.bn2.running_var \t torch.Size([1824])\n",
      "blocks.5.4.bn2.num_batches_tracked \t torch.Size([])\n",
      "blocks.5.4.se.conv_reduce.weight \t torch.Size([76, 1824, 1, 1])\n",
      "blocks.5.4.se.conv_reduce.bias \t torch.Size([76])\n",
      "blocks.5.4.se.conv_expand.weight \t torch.Size([1824, 76, 1, 1])\n",
      "blocks.5.4.se.conv_expand.bias \t torch.Size([1824])\n",
      "blocks.5.4.conv_pwl.weight \t torch.Size([304, 1824, 1, 1])\n",
      "blocks.5.4.bn3.weight \t torch.Size([304])\n",
      "blocks.5.4.bn3.bias \t torch.Size([304])\n",
      "blocks.5.4.bn3.running_mean \t torch.Size([304])\n",
      "blocks.5.4.bn3.running_var \t torch.Size([304])\n",
      "blocks.5.4.bn3.num_batches_tracked \t torch.Size([])\n",
      "blocks.5.5.conv_pw.weight \t torch.Size([1824, 304, 1, 1])\n",
      "blocks.5.5.bn1.weight \t torch.Size([1824])\n",
      "blocks.5.5.bn1.bias \t torch.Size([1824])\n",
      "blocks.5.5.bn1.running_mean \t torch.Size([1824])\n",
      "blocks.5.5.bn1.running_var \t torch.Size([1824])\n",
      "blocks.5.5.bn1.num_batches_tracked \t torch.Size([])\n",
      "blocks.5.5.conv_dw.weight \t torch.Size([1824, 1, 5, 5])\n",
      "blocks.5.5.bn2.weight \t torch.Size([1824])\n",
      "blocks.5.5.bn2.bias \t torch.Size([1824])\n",
      "blocks.5.5.bn2.running_mean \t torch.Size([1824])\n",
      "blocks.5.5.bn2.running_var \t torch.Size([1824])\n",
      "blocks.5.5.bn2.num_batches_tracked \t torch.Size([])\n",
      "blocks.5.5.se.conv_reduce.weight \t torch.Size([76, 1824, 1, 1])\n",
      "blocks.5.5.se.conv_reduce.bias \t torch.Size([76])\n",
      "blocks.5.5.se.conv_expand.weight \t torch.Size([1824, 76, 1, 1])\n",
      "blocks.5.5.se.conv_expand.bias \t torch.Size([1824])\n",
      "blocks.5.5.conv_pwl.weight \t torch.Size([304, 1824, 1, 1])\n",
      "blocks.5.5.bn3.weight \t torch.Size([304])\n",
      "blocks.5.5.bn3.bias \t torch.Size([304])\n",
      "blocks.5.5.bn3.running_mean \t torch.Size([304])\n",
      "blocks.5.5.bn3.running_var \t torch.Size([304])\n",
      "blocks.5.5.bn3.num_batches_tracked \t torch.Size([])\n",
      "blocks.5.6.conv_pw.weight \t torch.Size([1824, 304, 1, 1])\n",
      "blocks.5.6.bn1.weight \t torch.Size([1824])\n",
      "blocks.5.6.bn1.bias \t torch.Size([1824])\n",
      "blocks.5.6.bn1.running_mean \t torch.Size([1824])\n",
      "blocks.5.6.bn1.running_var \t torch.Size([1824])\n",
      "blocks.5.6.bn1.num_batches_tracked \t torch.Size([])\n",
      "blocks.5.6.conv_dw.weight \t torch.Size([1824, 1, 5, 5])\n",
      "blocks.5.6.bn2.weight \t torch.Size([1824])\n",
      "blocks.5.6.bn2.bias \t torch.Size([1824])\n",
      "blocks.5.6.bn2.running_mean \t torch.Size([1824])\n",
      "blocks.5.6.bn2.running_var \t torch.Size([1824])\n",
      "blocks.5.6.bn2.num_batches_tracked \t torch.Size([])\n",
      "blocks.5.6.se.conv_reduce.weight \t torch.Size([76, 1824, 1, 1])\n",
      "blocks.5.6.se.conv_reduce.bias \t torch.Size([76])\n",
      "blocks.5.6.se.conv_expand.weight \t torch.Size([1824, 76, 1, 1])\n",
      "blocks.5.6.se.conv_expand.bias \t torch.Size([1824])\n",
      "blocks.5.6.conv_pwl.weight \t torch.Size([304, 1824, 1, 1])\n",
      "blocks.5.6.bn3.weight \t torch.Size([304])\n",
      "blocks.5.6.bn3.bias \t torch.Size([304])\n",
      "blocks.5.6.bn3.running_mean \t torch.Size([304])\n",
      "blocks.5.6.bn3.running_var \t torch.Size([304])\n",
      "blocks.5.6.bn3.num_batches_tracked \t torch.Size([])\n",
      "blocks.5.7.conv_pw.weight \t torch.Size([1824, 304, 1, 1])\n",
      "blocks.5.7.bn1.weight \t torch.Size([1824])\n",
      "blocks.5.7.bn1.bias \t torch.Size([1824])\n",
      "blocks.5.7.bn1.running_mean \t torch.Size([1824])\n",
      "blocks.5.7.bn1.running_var \t torch.Size([1824])\n",
      "blocks.5.7.bn1.num_batches_tracked \t torch.Size([])\n",
      "blocks.5.7.conv_dw.weight \t torch.Size([1824, 1, 5, 5])\n",
      "blocks.5.7.bn2.weight \t torch.Size([1824])\n",
      "blocks.5.7.bn2.bias \t torch.Size([1824])\n",
      "blocks.5.7.bn2.running_mean \t torch.Size([1824])\n",
      "blocks.5.7.bn2.running_var \t torch.Size([1824])\n",
      "blocks.5.7.bn2.num_batches_tracked \t torch.Size([])\n",
      "blocks.5.7.se.conv_reduce.weight \t torch.Size([76, 1824, 1, 1])\n",
      "blocks.5.7.se.conv_reduce.bias \t torch.Size([76])\n",
      "blocks.5.7.se.conv_expand.weight \t torch.Size([1824, 76, 1, 1])\n",
      "blocks.5.7.se.conv_expand.bias \t torch.Size([1824])\n",
      "blocks.5.7.conv_pwl.weight \t torch.Size([304, 1824, 1, 1])\n",
      "blocks.5.7.bn3.weight \t torch.Size([304])\n",
      "blocks.5.7.bn3.bias \t torch.Size([304])\n",
      "blocks.5.7.bn3.running_mean \t torch.Size([304])\n",
      "blocks.5.7.bn3.running_var \t torch.Size([304])\n",
      "blocks.5.7.bn3.num_batches_tracked \t torch.Size([])\n",
      "blocks.5.8.conv_pw.weight \t torch.Size([1824, 304, 1, 1])\n",
      "blocks.5.8.bn1.weight \t torch.Size([1824])\n",
      "blocks.5.8.bn1.bias \t torch.Size([1824])\n",
      "blocks.5.8.bn1.running_mean \t torch.Size([1824])\n",
      "blocks.5.8.bn1.running_var \t torch.Size([1824])\n",
      "blocks.5.8.bn1.num_batches_tracked \t torch.Size([])\n",
      "blocks.5.8.conv_dw.weight \t torch.Size([1824, 1, 5, 5])\n",
      "blocks.5.8.bn2.weight \t torch.Size([1824])\n",
      "blocks.5.8.bn2.bias \t torch.Size([1824])\n",
      "blocks.5.8.bn2.running_mean \t torch.Size([1824])\n",
      "blocks.5.8.bn2.running_var \t torch.Size([1824])\n",
      "blocks.5.8.bn2.num_batches_tracked \t torch.Size([])\n",
      "blocks.5.8.se.conv_reduce.weight \t torch.Size([76, 1824, 1, 1])\n",
      "blocks.5.8.se.conv_reduce.bias \t torch.Size([76])\n",
      "blocks.5.8.se.conv_expand.weight \t torch.Size([1824, 76, 1, 1])\n",
      "blocks.5.8.se.conv_expand.bias \t torch.Size([1824])\n",
      "blocks.5.8.conv_pwl.weight \t torch.Size([304, 1824, 1, 1])\n",
      "blocks.5.8.bn3.weight \t torch.Size([304])\n",
      "blocks.5.8.bn3.bias \t torch.Size([304])\n",
      "blocks.5.8.bn3.running_mean \t torch.Size([304])\n",
      "blocks.5.8.bn3.running_var \t torch.Size([304])\n",
      "blocks.5.8.bn3.num_batches_tracked \t torch.Size([])\n",
      "blocks.6.0.conv_pw.weight \t torch.Size([1824, 304, 1, 1])\n"
     ]
    },
    {
     "name": "stdout",
     "output_type": "stream",
     "text": [
      "blocks.6.0.bn1.weight \t torch.Size([1824])\n",
      "blocks.6.0.bn1.bias \t torch.Size([1824])\n",
      "blocks.6.0.bn1.running_mean \t torch.Size([1824])\n",
      "blocks.6.0.bn1.running_var \t torch.Size([1824])\n",
      "blocks.6.0.bn1.num_batches_tracked \t torch.Size([])\n",
      "blocks.6.0.conv_dw.weight \t torch.Size([1824, 1, 3, 3])\n",
      "blocks.6.0.bn2.weight \t torch.Size([1824])\n",
      "blocks.6.0.bn2.bias \t torch.Size([1824])\n",
      "blocks.6.0.bn2.running_mean \t torch.Size([1824])\n",
      "blocks.6.0.bn2.running_var \t torch.Size([1824])\n",
      "blocks.6.0.bn2.num_batches_tracked \t torch.Size([])\n",
      "blocks.6.0.se.conv_reduce.weight \t torch.Size([76, 1824, 1, 1])\n",
      "blocks.6.0.se.conv_reduce.bias \t torch.Size([76])\n",
      "blocks.6.0.se.conv_expand.weight \t torch.Size([1824, 76, 1, 1])\n",
      "blocks.6.0.se.conv_expand.bias \t torch.Size([1824])\n",
      "blocks.6.0.conv_pwl.weight \t torch.Size([512, 1824, 1, 1])\n",
      "blocks.6.0.bn3.weight \t torch.Size([512])\n",
      "blocks.6.0.bn3.bias \t torch.Size([512])\n",
      "blocks.6.0.bn3.running_mean \t torch.Size([512])\n",
      "blocks.6.0.bn3.running_var \t torch.Size([512])\n",
      "blocks.6.0.bn3.num_batches_tracked \t torch.Size([])\n",
      "blocks.6.1.conv_pw.weight \t torch.Size([3072, 512, 1, 1])\n",
      "blocks.6.1.bn1.weight \t torch.Size([3072])\n",
      "blocks.6.1.bn1.bias \t torch.Size([3072])\n",
      "blocks.6.1.bn1.running_mean \t torch.Size([3072])\n",
      "blocks.6.1.bn1.running_var \t torch.Size([3072])\n",
      "blocks.6.1.bn1.num_batches_tracked \t torch.Size([])\n",
      "blocks.6.1.conv_dw.weight \t torch.Size([3072, 1, 3, 3])\n",
      "blocks.6.1.bn2.weight \t torch.Size([3072])\n",
      "blocks.6.1.bn2.bias \t torch.Size([3072])\n",
      "blocks.6.1.bn2.running_mean \t torch.Size([3072])\n",
      "blocks.6.1.bn2.running_var \t torch.Size([3072])\n",
      "blocks.6.1.bn2.num_batches_tracked \t torch.Size([])\n",
      "blocks.6.1.se.conv_reduce.weight \t torch.Size([128, 3072, 1, 1])\n",
      "blocks.6.1.se.conv_reduce.bias \t torch.Size([128])\n",
      "blocks.6.1.se.conv_expand.weight \t torch.Size([3072, 128, 1, 1])\n",
      "blocks.6.1.se.conv_expand.bias \t torch.Size([3072])\n",
      "blocks.6.1.conv_pwl.weight \t torch.Size([512, 3072, 1, 1])\n",
      "blocks.6.1.bn3.weight \t torch.Size([512])\n",
      "blocks.6.1.bn3.bias \t torch.Size([512])\n",
      "blocks.6.1.bn3.running_mean \t torch.Size([512])\n",
      "blocks.6.1.bn3.running_var \t torch.Size([512])\n",
      "blocks.6.1.bn3.num_batches_tracked \t torch.Size([])\n",
      "blocks.6.2.conv_pw.weight \t torch.Size([3072, 512, 1, 1])\n",
      "blocks.6.2.bn1.weight \t torch.Size([3072])\n",
      "blocks.6.2.bn1.bias \t torch.Size([3072])\n",
      "blocks.6.2.bn1.running_mean \t torch.Size([3072])\n",
      "blocks.6.2.bn1.running_var \t torch.Size([3072])\n",
      "blocks.6.2.bn1.num_batches_tracked \t torch.Size([])\n",
      "blocks.6.2.conv_dw.weight \t torch.Size([3072, 1, 3, 3])\n",
      "blocks.6.2.bn2.weight \t torch.Size([3072])\n",
      "blocks.6.2.bn2.bias \t torch.Size([3072])\n",
      "blocks.6.2.bn2.running_mean \t torch.Size([3072])\n",
      "blocks.6.2.bn2.running_var \t torch.Size([3072])\n",
      "blocks.6.2.bn2.num_batches_tracked \t torch.Size([])\n",
      "blocks.6.2.se.conv_reduce.weight \t torch.Size([128, 3072, 1, 1])\n",
      "blocks.6.2.se.conv_reduce.bias \t torch.Size([128])\n",
      "blocks.6.2.se.conv_expand.weight \t torch.Size([3072, 128, 1, 1])\n",
      "blocks.6.2.se.conv_expand.bias \t torch.Size([3072])\n",
      "blocks.6.2.conv_pwl.weight \t torch.Size([512, 3072, 1, 1])\n",
      "blocks.6.2.bn3.weight \t torch.Size([512])\n",
      "blocks.6.2.bn3.bias \t torch.Size([512])\n",
      "blocks.6.2.bn3.running_mean \t torch.Size([512])\n",
      "blocks.6.2.bn3.running_var \t torch.Size([512])\n",
      "blocks.6.2.bn3.num_batches_tracked \t torch.Size([])\n",
      "conv_head.weight \t torch.Size([2048, 512, 1, 1])\n",
      "bn2.weight \t torch.Size([2048])\n",
      "bn2.bias \t torch.Size([2048])\n",
      "bn2.running_mean \t torch.Size([2048])\n",
      "bn2.running_var \t torch.Size([2048])\n",
      "bn2.num_batches_tracked \t torch.Size([])\n",
      "classifier.weight \t torch.Size([30, 2048])\n",
      "classifier.bias \t torch.Size([30])\n"
     ]
    }
   ],
   "source": [
    "for param_tensor in model.state_dict():\n",
    "    print(param_tensor, \"\\t\", model.state_dict()[param_tensor].size())"
   ]
  },
  {
   "cell_type": "code",
   "execution_count": 215,
   "id": "2b079104",
   "metadata": {},
   "outputs": [
    {
     "data": {
      "application/vnd.jupyter.widget-view+json": {
       "model_id": "28453e98866d48febfccf0037f59f88b",
       "version_major": 2,
       "version_minor": 0
      },
      "text/plain": [
       "  0%|          | 0/38274 [00:00<?, ?it/s]"
      ]
     },
     "metadata": {},
     "output_type": "display_data"
    },
    {
     "name": "stderr",
     "output_type": "stream",
     "text": [
      "c:\\users\\admin\\appdata\\local\\programs\\python\\python36\\lib\\site-packages\\ipykernel_launcher.py:7: UserWarning: To copy construct from a tensor, it is recommended to use sourceTensor.clone().detach() or sourceTensor.clone().detach().requires_grad_(True), rather than torch.tensor(sourceTensor).\n",
      "  import sys\n"
     ]
    },
    {
     "ename": "KeyboardInterrupt",
     "evalue": "",
     "output_type": "error",
     "traceback": [
      "\u001b[1;31m---------------------------------------------------------------------------\u001b[0m",
      "\u001b[1;31mKeyboardInterrupt\u001b[0m                         Traceback (most recent call last)",
      "\u001b[1;32m<ipython-input-215-57d1ccdf1953>\u001b[0m in \u001b[0;36m<module>\u001b[1;34m\u001b[0m\n\u001b[0;32m      4\u001b[0m \u001b[0mmodel\u001b[0m\u001b[1;33m.\u001b[0m\u001b[0mcuda\u001b[0m\u001b[1;33m(\u001b[0m\u001b[1;33m)\u001b[0m\u001b[1;33m\u001b[0m\u001b[1;33m\u001b[0m\u001b[0m\n\u001b[0;32m      5\u001b[0m \u001b[0mmodel\u001b[0m\u001b[1;33m.\u001b[0m\u001b[0meval\u001b[0m\u001b[1;33m(\u001b[0m\u001b[1;33m)\u001b[0m\u001b[1;33m\u001b[0m\u001b[1;33m\u001b[0m\u001b[0m\n\u001b[1;32m----> 6\u001b[1;33m \u001b[1;32mfor\u001b[0m \u001b[0mX\u001b[0m\u001b[1;33m,\u001b[0m\u001b[0my\u001b[0m \u001b[1;32min\u001b[0m \u001b[0mtqdm\u001b[0m\u001b[1;33m(\u001b[0m\u001b[0mtest_loader\u001b[0m\u001b[1;33m)\u001b[0m\u001b[1;33m:\u001b[0m\u001b[1;33m\u001b[0m\u001b[1;33m\u001b[0m\u001b[0m\n\u001b[0m\u001b[0;32m      7\u001b[0m     \u001b[0mpred\u001b[0m \u001b[1;33m=\u001b[0m \u001b[0mmodel\u001b[0m\u001b[1;33m(\u001b[0m\u001b[0mtorch\u001b[0m\u001b[1;33m.\u001b[0m\u001b[0mtensor\u001b[0m\u001b[1;33m(\u001b[0m\u001b[0mX\u001b[0m\u001b[1;33m)\u001b[0m\u001b[1;33m.\u001b[0m\u001b[0mto\u001b[0m\u001b[1;33m(\u001b[0m\u001b[0mdevice\u001b[0m\u001b[1;33m)\u001b[0m\u001b[1;33m)\u001b[0m\u001b[1;33m\u001b[0m\u001b[1;33m\u001b[0m\u001b[0m\n\u001b[0;32m      8\u001b[0m     \u001b[0mpred_s\u001b[0m\u001b[1;33m.\u001b[0m\u001b[0mappend\u001b[0m\u001b[1;33m(\u001b[0m\u001b[1;33m(\u001b[0m\u001b[0mtorch\u001b[0m\u001b[1;33m.\u001b[0m\u001b[0margmax\u001b[0m\u001b[1;33m(\u001b[0m\u001b[0mpred\u001b[0m\u001b[1;33m,\u001b[0m \u001b[0mdim\u001b[0m \u001b[1;33m=\u001b[0m \u001b[1;36m1\u001b[0m\u001b[1;33m)\u001b[0m\u001b[1;33m.\u001b[0m\u001b[0mdetach\u001b[0m\u001b[1;33m(\u001b[0m\u001b[1;33m)\u001b[0m\u001b[1;33m.\u001b[0m\u001b[0mcpu\u001b[0m\u001b[1;33m(\u001b[0m\u001b[1;33m)\u001b[0m\u001b[1;33m.\u001b[0m\u001b[0mnumpy\u001b[0m\u001b[1;33m(\u001b[0m\u001b[1;33m)\u001b[0m\u001b[1;33m)\u001b[0m\u001b[1;33m)\u001b[0m\u001b[1;33m\u001b[0m\u001b[1;33m\u001b[0m\u001b[0m\n",
      "\u001b[1;32mc:\\users\\admin\\appdata\\local\\programs\\python\\python36\\lib\\site-packages\\tqdm\\notebook.py\u001b[0m in \u001b[0;36m__iter__\u001b[1;34m(self)\u001b[0m\n\u001b[0;32m    256\u001b[0m         \u001b[1;32mtry\u001b[0m\u001b[1;33m:\u001b[0m\u001b[1;33m\u001b[0m\u001b[1;33m\u001b[0m\u001b[0m\n\u001b[0;32m    257\u001b[0m             \u001b[0mit\u001b[0m \u001b[1;33m=\u001b[0m \u001b[0msuper\u001b[0m\u001b[1;33m(\u001b[0m\u001b[0mtqdm_notebook\u001b[0m\u001b[1;33m,\u001b[0m \u001b[0mself\u001b[0m\u001b[1;33m)\u001b[0m\u001b[1;33m.\u001b[0m\u001b[0m__iter__\u001b[0m\u001b[1;33m(\u001b[0m\u001b[1;33m)\u001b[0m\u001b[1;33m\u001b[0m\u001b[1;33m\u001b[0m\u001b[0m\n\u001b[1;32m--> 258\u001b[1;33m             \u001b[1;32mfor\u001b[0m \u001b[0mobj\u001b[0m \u001b[1;32min\u001b[0m \u001b[0mit\u001b[0m\u001b[1;33m:\u001b[0m\u001b[1;33m\u001b[0m\u001b[1;33m\u001b[0m\u001b[0m\n\u001b[0m\u001b[0;32m    259\u001b[0m                 \u001b[1;31m# return super(tqdm...) will not catch exception\u001b[0m\u001b[1;33m\u001b[0m\u001b[1;33m\u001b[0m\u001b[1;33m\u001b[0m\u001b[0m\n\u001b[0;32m    260\u001b[0m                 \u001b[1;32myield\u001b[0m \u001b[0mobj\u001b[0m\u001b[1;33m\u001b[0m\u001b[1;33m\u001b[0m\u001b[0m\n",
      "\u001b[1;32mc:\\users\\admin\\appdata\\local\\programs\\python\\python36\\lib\\site-packages\\tqdm\\std.py\u001b[0m in \u001b[0;36m__iter__\u001b[1;34m(self)\u001b[0m\n\u001b[0;32m   1193\u001b[0m \u001b[1;33m\u001b[0m\u001b[0m\n\u001b[0;32m   1194\u001b[0m         \u001b[1;32mtry\u001b[0m\u001b[1;33m:\u001b[0m\u001b[1;33m\u001b[0m\u001b[1;33m\u001b[0m\u001b[0m\n\u001b[1;32m-> 1195\u001b[1;33m             \u001b[1;32mfor\u001b[0m \u001b[0mobj\u001b[0m \u001b[1;32min\u001b[0m \u001b[0miterable\u001b[0m\u001b[1;33m:\u001b[0m\u001b[1;33m\u001b[0m\u001b[1;33m\u001b[0m\u001b[0m\n\u001b[0m\u001b[0;32m   1196\u001b[0m                 \u001b[1;32myield\u001b[0m \u001b[0mobj\u001b[0m\u001b[1;33m\u001b[0m\u001b[1;33m\u001b[0m\u001b[0m\n\u001b[0;32m   1197\u001b[0m                 \u001b[1;31m# Update and possibly print the progressbar.\u001b[0m\u001b[1;33m\u001b[0m\u001b[1;33m\u001b[0m\u001b[1;33m\u001b[0m\u001b[0m\n",
      "\u001b[1;32mc:\\users\\admin\\appdata\\local\\programs\\python\\python36\\lib\\site-packages\\torch\\utils\\data\\dataloader.py\u001b[0m in \u001b[0;36m__next__\u001b[1;34m(self)\u001b[0m\n\u001b[0;32m    519\u001b[0m             \u001b[1;32mif\u001b[0m \u001b[0mself\u001b[0m\u001b[1;33m.\u001b[0m\u001b[0m_sampler_iter\u001b[0m \u001b[1;32mis\u001b[0m \u001b[1;32mNone\u001b[0m\u001b[1;33m:\u001b[0m\u001b[1;33m\u001b[0m\u001b[1;33m\u001b[0m\u001b[0m\n\u001b[0;32m    520\u001b[0m                 \u001b[0mself\u001b[0m\u001b[1;33m.\u001b[0m\u001b[0m_reset\u001b[0m\u001b[1;33m(\u001b[0m\u001b[1;33m)\u001b[0m\u001b[1;33m\u001b[0m\u001b[1;33m\u001b[0m\u001b[0m\n\u001b[1;32m--> 521\u001b[1;33m             \u001b[0mdata\u001b[0m \u001b[1;33m=\u001b[0m \u001b[0mself\u001b[0m\u001b[1;33m.\u001b[0m\u001b[0m_next_data\u001b[0m\u001b[1;33m(\u001b[0m\u001b[1;33m)\u001b[0m\u001b[1;33m\u001b[0m\u001b[1;33m\u001b[0m\u001b[0m\n\u001b[0m\u001b[0;32m    522\u001b[0m             \u001b[0mself\u001b[0m\u001b[1;33m.\u001b[0m\u001b[0m_num_yielded\u001b[0m \u001b[1;33m+=\u001b[0m \u001b[1;36m1\u001b[0m\u001b[1;33m\u001b[0m\u001b[1;33m\u001b[0m\u001b[0m\n\u001b[0;32m    523\u001b[0m             \u001b[1;32mif\u001b[0m \u001b[0mself\u001b[0m\u001b[1;33m.\u001b[0m\u001b[0m_dataset_kind\u001b[0m \u001b[1;33m==\u001b[0m \u001b[0m_DatasetKind\u001b[0m\u001b[1;33m.\u001b[0m\u001b[0mIterable\u001b[0m \u001b[1;32mand\u001b[0m\u001b[0;31m \u001b[0m\u001b[0;31m\\\u001b[0m\u001b[1;33m\u001b[0m\u001b[1;33m\u001b[0m\u001b[0m\n",
      "\u001b[1;32mc:\\users\\admin\\appdata\\local\\programs\\python\\python36\\lib\\site-packages\\torch\\utils\\data\\dataloader.py\u001b[0m in \u001b[0;36m_next_data\u001b[1;34m(self)\u001b[0m\n\u001b[0;32m    559\u001b[0m     \u001b[1;32mdef\u001b[0m \u001b[0m_next_data\u001b[0m\u001b[1;33m(\u001b[0m\u001b[0mself\u001b[0m\u001b[1;33m)\u001b[0m\u001b[1;33m:\u001b[0m\u001b[1;33m\u001b[0m\u001b[1;33m\u001b[0m\u001b[0m\n\u001b[0;32m    560\u001b[0m         \u001b[0mindex\u001b[0m \u001b[1;33m=\u001b[0m \u001b[0mself\u001b[0m\u001b[1;33m.\u001b[0m\u001b[0m_next_index\u001b[0m\u001b[1;33m(\u001b[0m\u001b[1;33m)\u001b[0m  \u001b[1;31m# may raise StopIteration\u001b[0m\u001b[1;33m\u001b[0m\u001b[1;33m\u001b[0m\u001b[0m\n\u001b[1;32m--> 561\u001b[1;33m         \u001b[0mdata\u001b[0m \u001b[1;33m=\u001b[0m \u001b[0mself\u001b[0m\u001b[1;33m.\u001b[0m\u001b[0m_dataset_fetcher\u001b[0m\u001b[1;33m.\u001b[0m\u001b[0mfetch\u001b[0m\u001b[1;33m(\u001b[0m\u001b[0mindex\u001b[0m\u001b[1;33m)\u001b[0m  \u001b[1;31m# may raise StopIteration\u001b[0m\u001b[1;33m\u001b[0m\u001b[1;33m\u001b[0m\u001b[0m\n\u001b[0m\u001b[0;32m    562\u001b[0m         \u001b[1;32mif\u001b[0m \u001b[0mself\u001b[0m\u001b[1;33m.\u001b[0m\u001b[0m_pin_memory\u001b[0m\u001b[1;33m:\u001b[0m\u001b[1;33m\u001b[0m\u001b[1;33m\u001b[0m\u001b[0m\n\u001b[0;32m    563\u001b[0m             \u001b[0mdata\u001b[0m \u001b[1;33m=\u001b[0m \u001b[0m_utils\u001b[0m\u001b[1;33m.\u001b[0m\u001b[0mpin_memory\u001b[0m\u001b[1;33m.\u001b[0m\u001b[0mpin_memory\u001b[0m\u001b[1;33m(\u001b[0m\u001b[0mdata\u001b[0m\u001b[1;33m)\u001b[0m\u001b[1;33m\u001b[0m\u001b[1;33m\u001b[0m\u001b[0m\n",
      "\u001b[1;32mc:\\users\\admin\\appdata\\local\\programs\\python\\python36\\lib\\site-packages\\torch\\utils\\data\\_utils\\fetch.py\u001b[0m in \u001b[0;36mfetch\u001b[1;34m(self, possibly_batched_index)\u001b[0m\n\u001b[0;32m     47\u001b[0m     \u001b[1;32mdef\u001b[0m \u001b[0mfetch\u001b[0m\u001b[1;33m(\u001b[0m\u001b[0mself\u001b[0m\u001b[1;33m,\u001b[0m \u001b[0mpossibly_batched_index\u001b[0m\u001b[1;33m)\u001b[0m\u001b[1;33m:\u001b[0m\u001b[1;33m\u001b[0m\u001b[1;33m\u001b[0m\u001b[0m\n\u001b[0;32m     48\u001b[0m         \u001b[1;32mif\u001b[0m \u001b[0mself\u001b[0m\u001b[1;33m.\u001b[0m\u001b[0mauto_collation\u001b[0m\u001b[1;33m:\u001b[0m\u001b[1;33m\u001b[0m\u001b[1;33m\u001b[0m\u001b[0m\n\u001b[1;32m---> 49\u001b[1;33m             \u001b[0mdata\u001b[0m \u001b[1;33m=\u001b[0m \u001b[1;33m[\u001b[0m\u001b[0mself\u001b[0m\u001b[1;33m.\u001b[0m\u001b[0mdataset\u001b[0m\u001b[1;33m[\u001b[0m\u001b[0midx\u001b[0m\u001b[1;33m]\u001b[0m \u001b[1;32mfor\u001b[0m \u001b[0midx\u001b[0m \u001b[1;32min\u001b[0m \u001b[0mpossibly_batched_index\u001b[0m\u001b[1;33m]\u001b[0m\u001b[1;33m\u001b[0m\u001b[1;33m\u001b[0m\u001b[0m\n\u001b[0m\u001b[0;32m     50\u001b[0m         \u001b[1;32melse\u001b[0m\u001b[1;33m:\u001b[0m\u001b[1;33m\u001b[0m\u001b[1;33m\u001b[0m\u001b[0m\n\u001b[0;32m     51\u001b[0m             \u001b[0mdata\u001b[0m \u001b[1;33m=\u001b[0m \u001b[0mself\u001b[0m\u001b[1;33m.\u001b[0m\u001b[0mdataset\u001b[0m\u001b[1;33m[\u001b[0m\u001b[0mpossibly_batched_index\u001b[0m\u001b[1;33m]\u001b[0m\u001b[1;33m\u001b[0m\u001b[1;33m\u001b[0m\u001b[0m\n",
      "\u001b[1;32mc:\\users\\admin\\appdata\\local\\programs\\python\\python36\\lib\\site-packages\\torch\\utils\\data\\_utils\\fetch.py\u001b[0m in \u001b[0;36m<listcomp>\u001b[1;34m(.0)\u001b[0m\n\u001b[0;32m     47\u001b[0m     \u001b[1;32mdef\u001b[0m \u001b[0mfetch\u001b[0m\u001b[1;33m(\u001b[0m\u001b[0mself\u001b[0m\u001b[1;33m,\u001b[0m \u001b[0mpossibly_batched_index\u001b[0m\u001b[1;33m)\u001b[0m\u001b[1;33m:\u001b[0m\u001b[1;33m\u001b[0m\u001b[1;33m\u001b[0m\u001b[0m\n\u001b[0;32m     48\u001b[0m         \u001b[1;32mif\u001b[0m \u001b[0mself\u001b[0m\u001b[1;33m.\u001b[0m\u001b[0mauto_collation\u001b[0m\u001b[1;33m:\u001b[0m\u001b[1;33m\u001b[0m\u001b[1;33m\u001b[0m\u001b[0m\n\u001b[1;32m---> 49\u001b[1;33m             \u001b[0mdata\u001b[0m \u001b[1;33m=\u001b[0m \u001b[1;33m[\u001b[0m\u001b[0mself\u001b[0m\u001b[1;33m.\u001b[0m\u001b[0mdataset\u001b[0m\u001b[1;33m[\u001b[0m\u001b[0midx\u001b[0m\u001b[1;33m]\u001b[0m \u001b[1;32mfor\u001b[0m \u001b[0midx\u001b[0m \u001b[1;32min\u001b[0m \u001b[0mpossibly_batched_index\u001b[0m\u001b[1;33m]\u001b[0m\u001b[1;33m\u001b[0m\u001b[1;33m\u001b[0m\u001b[0m\n\u001b[0m\u001b[0;32m     50\u001b[0m         \u001b[1;32melse\u001b[0m\u001b[1;33m:\u001b[0m\u001b[1;33m\u001b[0m\u001b[1;33m\u001b[0m\u001b[0m\n\u001b[0;32m     51\u001b[0m             \u001b[0mdata\u001b[0m \u001b[1;33m=\u001b[0m \u001b[0mself\u001b[0m\u001b[1;33m.\u001b[0m\u001b[0mdataset\u001b[0m\u001b[1;33m[\u001b[0m\u001b[0mpossibly_batched_index\u001b[0m\u001b[1;33m]\u001b[0m\u001b[1;33m\u001b[0m\u001b[1;33m\u001b[0m\u001b[0m\n",
      "\u001b[1;32m<ipython-input-13-0248605718e6>\u001b[0m in \u001b[0;36m__getitem__\u001b[1;34m(self, idx)\u001b[0m\n\u001b[0;32m     11\u001b[0m     \u001b[1;32mdef\u001b[0m \u001b[0m__getitem__\u001b[0m\u001b[1;33m(\u001b[0m\u001b[0mself\u001b[0m\u001b[1;33m,\u001b[0m \u001b[0midx\u001b[0m\u001b[1;33m)\u001b[0m\u001b[1;33m:\u001b[0m\u001b[1;33m\u001b[0m\u001b[1;33m\u001b[0m\u001b[0m\n\u001b[0;32m     12\u001b[0m         \u001b[0mtarget\u001b[0m \u001b[1;33m=\u001b[0m \u001b[0mself\u001b[0m\u001b[1;33m.\u001b[0m\u001b[0mdf\u001b[0m\u001b[1;33m.\u001b[0m\u001b[0miloc\u001b[0m\u001b[1;33m[\u001b[0m\u001b[0midx\u001b[0m\u001b[1;33m]\u001b[0m\u001b[1;33m.\u001b[0m\u001b[0mclass_id\u001b[0m\u001b[1;33m\u001b[0m\u001b[1;33m\u001b[0m\u001b[0m\n\u001b[1;32m---> 13\u001b[1;33m         \u001b[0mimage\u001b[0m \u001b[1;33m=\u001b[0m \u001b[0mcv2\u001b[0m\u001b[1;33m.\u001b[0m\u001b[0mimread\u001b[0m\u001b[1;33m(\u001b[0m\u001b[0mos\u001b[0m\u001b[1;33m.\u001b[0m\u001b[0mpath\u001b[0m\u001b[1;33m.\u001b[0m\u001b[0mjoin\u001b[0m\u001b[1;33m(\u001b[0m\u001b[0mself\u001b[0m\u001b[1;33m.\u001b[0m\u001b[0mroot_dir\u001b[0m\u001b[1;33m,\u001b[0m \u001b[0mself\u001b[0m\u001b[1;33m.\u001b[0m\u001b[0mdf\u001b[0m\u001b[1;33m.\u001b[0m\u001b[0miloc\u001b[0m\u001b[1;33m[\u001b[0m\u001b[0midx\u001b[0m\u001b[1;33m]\u001b[0m\u001b[1;33m.\u001b[0m\u001b[0mimage\u001b[0m\u001b[1;33m)\u001b[0m\u001b[1;33m)\u001b[0m\u001b[1;33m\u001b[0m\u001b[1;33m\u001b[0m\u001b[0m\n\u001b[0m\u001b[0;32m     14\u001b[0m         \u001b[1;32mif\u001b[0m \u001b[0mself\u001b[0m\u001b[1;33m.\u001b[0m\u001b[0mtransform\u001b[0m \u001b[1;32mis\u001b[0m \u001b[1;32mnot\u001b[0m \u001b[1;32mNone\u001b[0m\u001b[1;33m:\u001b[0m\u001b[1;33m\u001b[0m\u001b[1;33m\u001b[0m\u001b[0m\n\u001b[0;32m     15\u001b[0m             \u001b[0mimage\u001b[0m \u001b[1;33m=\u001b[0m \u001b[0mself\u001b[0m\u001b[1;33m.\u001b[0m\u001b[0mtransform\u001b[0m\u001b[1;33m(\u001b[0m\u001b[0mimage\u001b[0m\u001b[1;33m=\u001b[0m\u001b[0mimage\u001b[0m\u001b[1;33m)\u001b[0m\u001b[1;33m[\u001b[0m\u001b[1;34m\"image\"\u001b[0m\u001b[1;33m]\u001b[0m\u001b[1;33m\u001b[0m\u001b[1;33m\u001b[0m\u001b[0m\n",
      "\u001b[1;31mKeyboardInterrupt\u001b[0m: "
     ]
    }
   ],
   "source": [
    "pred_s = []\n",
    "target_s = []\n",
    "top_5_preds = []\n",
    "model.cuda()\n",
    "model.eval()\n",
    "for X,y in tqdm(test_loader):\n",
    "    pred = model(torch.tensor(X).to(device))\n",
    "    pred_s.append((torch.argmax(pred, dim = 1).detach().cpu().numpy()))\n",
    "    target_s.append((y.detach().cpu().numpy()))\n",
    "    top_5_preds.append(torch.topk((torch.softmax(pred, dim = 1).detach().cpu()),\n",
    "                                  5, dim=1, largest = True, sorted = True))"
   ]
  },
  {
   "cell_type": "code",
   "execution_count": 209,
   "id": "c6de5675",
   "metadata": {},
   "outputs": [
    {
     "ename": "TypeError",
     "evalue": "topk(): argument 'input' (position 1) must be Tensor, not list",
     "output_type": "error",
     "traceback": [
      "\u001b[1;31m---------------------------------------------------------------------------\u001b[0m",
      "\u001b[1;31mTypeError\u001b[0m                                 Traceback (most recent call last)",
      "\u001b[1;32m<ipython-input-209-2b1ad2286cf5>\u001b[0m in \u001b[0;36m<module>\u001b[1;34m\u001b[0m\n\u001b[0;32m      1\u001b[0m \u001b[0mtop_5_list\u001b[0m \u001b[1;33m=\u001b[0m \u001b[1;33m[\u001b[0m\u001b[1;33m]\u001b[0m\u001b[1;33m\u001b[0m\u001b[1;33m\u001b[0m\u001b[0m\n\u001b[0;32m      2\u001b[0m \u001b[1;32mfor\u001b[0m \u001b[0mi\u001b[0m \u001b[1;32min\u001b[0m \u001b[0mp_reds\u001b[0m\u001b[1;33m[\u001b[0m\u001b[0mj\u001b[0m\u001b[1;33m]\u001b[0m\u001b[1;33m:\u001b[0m\u001b[1;33m\u001b[0m\u001b[1;33m\u001b[0m\u001b[0m\n\u001b[1;32m----> 3\u001b[1;33m     \u001b[0mtop_5_list\u001b[0m\u001b[1;33m.\u001b[0m\u001b[0mappend\u001b[0m\u001b[1;33m(\u001b[0m\u001b[0mtorch\u001b[0m\u001b[1;33m.\u001b[0m\u001b[0mtopk\u001b[0m\u001b[1;33m(\u001b[0m\u001b[0mp_reds\u001b[0m\u001b[1;33m[\u001b[0m\u001b[0mj\u001b[0m\u001b[1;33m]\u001b[0m\u001b[1;33m)\u001b[0m\u001b[1;33m,\u001b[0m \u001b[1;36m5\u001b[0m\u001b[1;33m,\u001b[0m \u001b[0mdim\u001b[0m \u001b[1;33m=\u001b[0m \u001b[1;36m1\u001b[0m\u001b[1;33m,\u001b[0m \u001b[0mlargest\u001b[0m\u001b[1;33m=\u001b[0m\u001b[1;32mTrue\u001b[0m\u001b[1;33m,\u001b[0m\u001b[0msorted\u001b[0m\u001b[1;33m=\u001b[0m\u001b[1;32mTrue\u001b[0m\u001b[1;33m)\u001b[0m\u001b[1;33m\u001b[0m\u001b[1;33m\u001b[0m\u001b[0m\n\u001b[0m",
      "\u001b[1;31mTypeError\u001b[0m: topk(): argument 'input' (position 1) must be Tensor, not list"
     ]
    }
   ],
   "source": [
    "top_5_list = []\n",
    "for i in p_reds[j]:\n",
    "    top_5_list.append(torch.topk(p_reds[j]), 5, dim = 1, largest=True,sorted=True)"
   ]
  },
  {
   "cell_type": "code",
   "execution_count": 222,
   "id": "1a742a62",
   "metadata": {},
   "outputs": [
    {
     "data": {
      "text/plain": [
       "torch.Tensor"
      ]
     },
     "execution_count": 222,
     "metadata": {},
     "output_type": "execute_result"
    }
   ],
   "source": [
    "type(t_arget[1])"
   ]
  },
  {
   "cell_type": "code",
   "execution_count": 221,
   "id": "ddd7b6b8",
   "metadata": {},
   "outputs": [
    {
     "data": {
      "application/vnd.jupyter.widget-view+json": {
       "model_id": "cf134baf8779447b8d94b55044a06727",
       "version_major": 2,
       "version_minor": 0
      },
      "text/plain": [
       "  0%|          | 0/38274 [00:00<?, ?it/s]"
      ]
     },
     "metadata": {},
     "output_type": "display_data"
    },
    {
     "name": "stderr",
     "output_type": "stream",
     "text": [
      "c:\\users\\admin\\appdata\\local\\programs\\python\\python36\\lib\\site-packages\\ipykernel_launcher.py:6: UserWarning: To copy construct from a tensor, it is recommended to use sourceTensor.clone().detach() or sourceTensor.clone().detach().requires_grad_(True), rather than torch.tensor(sourceTensor).\n",
      "  \n"
     ]
    },
    {
     "ename": "KeyboardInterrupt",
     "evalue": "",
     "output_type": "error",
     "traceback": [
      "\u001b[1;31m---------------------------------------------------------------------------\u001b[0m",
      "\u001b[1;31mKeyboardInterrupt\u001b[0m                         Traceback (most recent call last)",
      "\u001b[1;32m<ipython-input-221-8af846780d41>\u001b[0m in \u001b[0;36m<module>\u001b[1;34m\u001b[0m\n\u001b[0;32m      3\u001b[0m \u001b[0mp_reds\u001b[0m \u001b[1;33m=\u001b[0m \u001b[1;33m[\u001b[0m\u001b[1;33m]\u001b[0m\u001b[1;33m\u001b[0m\u001b[1;33m\u001b[0m\u001b[0m\n\u001b[0;32m      4\u001b[0m \u001b[0mt_arget\u001b[0m \u001b[1;33m=\u001b[0m \u001b[1;33m[\u001b[0m\u001b[1;33m]\u001b[0m\u001b[1;33m\u001b[0m\u001b[1;33m\u001b[0m\u001b[0m\n\u001b[1;32m----> 5\u001b[1;33m \u001b[1;32mfor\u001b[0m \u001b[0mX\u001b[0m\u001b[1;33m,\u001b[0m\u001b[0my\u001b[0m \u001b[1;32min\u001b[0m \u001b[0mtqdm\u001b[0m\u001b[1;33m(\u001b[0m\u001b[0mtest_loader\u001b[0m\u001b[1;33m)\u001b[0m\u001b[1;33m:\u001b[0m\u001b[1;33m\u001b[0m\u001b[1;33m\u001b[0m\u001b[0m\n\u001b[0m\u001b[0;32m      6\u001b[0m         \u001b[0mpred\u001b[0m \u001b[1;33m=\u001b[0m \u001b[0mmodel\u001b[0m\u001b[1;33m(\u001b[0m\u001b[0mtorch\u001b[0m\u001b[1;33m.\u001b[0m\u001b[0mtensor\u001b[0m\u001b[1;33m(\u001b[0m\u001b[0mX\u001b[0m\u001b[1;33m)\u001b[0m\u001b[1;33m.\u001b[0m\u001b[0mto\u001b[0m\u001b[1;33m(\u001b[0m\u001b[0mdevice\u001b[0m\u001b[1;33m)\u001b[0m\u001b[1;33m)\u001b[0m\u001b[1;33m\u001b[0m\u001b[1;33m\u001b[0m\u001b[0m\n\u001b[0;32m      7\u001b[0m         \u001b[0mt_arget\u001b[0m\u001b[1;33m.\u001b[0m\u001b[0mappend\u001b[0m\u001b[1;33m(\u001b[0m\u001b[0my\u001b[0m\u001b[1;33m.\u001b[0m\u001b[0mdetach\u001b[0m\u001b[1;33m(\u001b[0m\u001b[1;33m)\u001b[0m\u001b[1;33m.\u001b[0m\u001b[0mcpu\u001b[0m\u001b[1;33m(\u001b[0m\u001b[1;33m)\u001b[0m\u001b[1;33m)\u001b[0m\u001b[1;33m\u001b[0m\u001b[1;33m\u001b[0m\u001b[0m\n",
      "\u001b[1;32mc:\\users\\admin\\appdata\\local\\programs\\python\\python36\\lib\\site-packages\\tqdm\\notebook.py\u001b[0m in \u001b[0;36m__iter__\u001b[1;34m(self)\u001b[0m\n\u001b[0;32m    256\u001b[0m         \u001b[1;32mtry\u001b[0m\u001b[1;33m:\u001b[0m\u001b[1;33m\u001b[0m\u001b[1;33m\u001b[0m\u001b[0m\n\u001b[0;32m    257\u001b[0m             \u001b[0mit\u001b[0m \u001b[1;33m=\u001b[0m \u001b[0msuper\u001b[0m\u001b[1;33m(\u001b[0m\u001b[0mtqdm_notebook\u001b[0m\u001b[1;33m,\u001b[0m \u001b[0mself\u001b[0m\u001b[1;33m)\u001b[0m\u001b[1;33m.\u001b[0m\u001b[0m__iter__\u001b[0m\u001b[1;33m(\u001b[0m\u001b[1;33m)\u001b[0m\u001b[1;33m\u001b[0m\u001b[1;33m\u001b[0m\u001b[0m\n\u001b[1;32m--> 258\u001b[1;33m             \u001b[1;32mfor\u001b[0m \u001b[0mobj\u001b[0m \u001b[1;32min\u001b[0m \u001b[0mit\u001b[0m\u001b[1;33m:\u001b[0m\u001b[1;33m\u001b[0m\u001b[1;33m\u001b[0m\u001b[0m\n\u001b[0m\u001b[0;32m    259\u001b[0m                 \u001b[1;31m# return super(tqdm...) will not catch exception\u001b[0m\u001b[1;33m\u001b[0m\u001b[1;33m\u001b[0m\u001b[1;33m\u001b[0m\u001b[0m\n\u001b[0;32m    260\u001b[0m                 \u001b[1;32myield\u001b[0m \u001b[0mobj\u001b[0m\u001b[1;33m\u001b[0m\u001b[1;33m\u001b[0m\u001b[0m\n",
      "\u001b[1;32mc:\\users\\admin\\appdata\\local\\programs\\python\\python36\\lib\\site-packages\\tqdm\\std.py\u001b[0m in \u001b[0;36m__iter__\u001b[1;34m(self)\u001b[0m\n\u001b[0;32m   1193\u001b[0m \u001b[1;33m\u001b[0m\u001b[0m\n\u001b[0;32m   1194\u001b[0m         \u001b[1;32mtry\u001b[0m\u001b[1;33m:\u001b[0m\u001b[1;33m\u001b[0m\u001b[1;33m\u001b[0m\u001b[0m\n\u001b[1;32m-> 1195\u001b[1;33m             \u001b[1;32mfor\u001b[0m \u001b[0mobj\u001b[0m \u001b[1;32min\u001b[0m \u001b[0miterable\u001b[0m\u001b[1;33m:\u001b[0m\u001b[1;33m\u001b[0m\u001b[1;33m\u001b[0m\u001b[0m\n\u001b[0m\u001b[0;32m   1196\u001b[0m                 \u001b[1;32myield\u001b[0m \u001b[0mobj\u001b[0m\u001b[1;33m\u001b[0m\u001b[1;33m\u001b[0m\u001b[0m\n\u001b[0;32m   1197\u001b[0m                 \u001b[1;31m# Update and possibly print the progressbar.\u001b[0m\u001b[1;33m\u001b[0m\u001b[1;33m\u001b[0m\u001b[1;33m\u001b[0m\u001b[0m\n",
      "\u001b[1;32mc:\\users\\admin\\appdata\\local\\programs\\python\\python36\\lib\\site-packages\\torch\\utils\\data\\dataloader.py\u001b[0m in \u001b[0;36m__next__\u001b[1;34m(self)\u001b[0m\n\u001b[0;32m    519\u001b[0m             \u001b[1;32mif\u001b[0m \u001b[0mself\u001b[0m\u001b[1;33m.\u001b[0m\u001b[0m_sampler_iter\u001b[0m \u001b[1;32mis\u001b[0m \u001b[1;32mNone\u001b[0m\u001b[1;33m:\u001b[0m\u001b[1;33m\u001b[0m\u001b[1;33m\u001b[0m\u001b[0m\n\u001b[0;32m    520\u001b[0m                 \u001b[0mself\u001b[0m\u001b[1;33m.\u001b[0m\u001b[0m_reset\u001b[0m\u001b[1;33m(\u001b[0m\u001b[1;33m)\u001b[0m\u001b[1;33m\u001b[0m\u001b[1;33m\u001b[0m\u001b[0m\n\u001b[1;32m--> 521\u001b[1;33m             \u001b[0mdata\u001b[0m \u001b[1;33m=\u001b[0m \u001b[0mself\u001b[0m\u001b[1;33m.\u001b[0m\u001b[0m_next_data\u001b[0m\u001b[1;33m(\u001b[0m\u001b[1;33m)\u001b[0m\u001b[1;33m\u001b[0m\u001b[1;33m\u001b[0m\u001b[0m\n\u001b[0m\u001b[0;32m    522\u001b[0m             \u001b[0mself\u001b[0m\u001b[1;33m.\u001b[0m\u001b[0m_num_yielded\u001b[0m \u001b[1;33m+=\u001b[0m \u001b[1;36m1\u001b[0m\u001b[1;33m\u001b[0m\u001b[1;33m\u001b[0m\u001b[0m\n\u001b[0;32m    523\u001b[0m             \u001b[1;32mif\u001b[0m \u001b[0mself\u001b[0m\u001b[1;33m.\u001b[0m\u001b[0m_dataset_kind\u001b[0m \u001b[1;33m==\u001b[0m \u001b[0m_DatasetKind\u001b[0m\u001b[1;33m.\u001b[0m\u001b[0mIterable\u001b[0m \u001b[1;32mand\u001b[0m\u001b[0;31m \u001b[0m\u001b[0;31m\\\u001b[0m\u001b[1;33m\u001b[0m\u001b[1;33m\u001b[0m\u001b[0m\n",
      "\u001b[1;32mc:\\users\\admin\\appdata\\local\\programs\\python\\python36\\lib\\site-packages\\torch\\utils\\data\\dataloader.py\u001b[0m in \u001b[0;36m_next_data\u001b[1;34m(self)\u001b[0m\n\u001b[0;32m    559\u001b[0m     \u001b[1;32mdef\u001b[0m \u001b[0m_next_data\u001b[0m\u001b[1;33m(\u001b[0m\u001b[0mself\u001b[0m\u001b[1;33m)\u001b[0m\u001b[1;33m:\u001b[0m\u001b[1;33m\u001b[0m\u001b[1;33m\u001b[0m\u001b[0m\n\u001b[0;32m    560\u001b[0m         \u001b[0mindex\u001b[0m \u001b[1;33m=\u001b[0m \u001b[0mself\u001b[0m\u001b[1;33m.\u001b[0m\u001b[0m_next_index\u001b[0m\u001b[1;33m(\u001b[0m\u001b[1;33m)\u001b[0m  \u001b[1;31m# may raise StopIteration\u001b[0m\u001b[1;33m\u001b[0m\u001b[1;33m\u001b[0m\u001b[0m\n\u001b[1;32m--> 561\u001b[1;33m         \u001b[0mdata\u001b[0m \u001b[1;33m=\u001b[0m \u001b[0mself\u001b[0m\u001b[1;33m.\u001b[0m\u001b[0m_dataset_fetcher\u001b[0m\u001b[1;33m.\u001b[0m\u001b[0mfetch\u001b[0m\u001b[1;33m(\u001b[0m\u001b[0mindex\u001b[0m\u001b[1;33m)\u001b[0m  \u001b[1;31m# may raise StopIteration\u001b[0m\u001b[1;33m\u001b[0m\u001b[1;33m\u001b[0m\u001b[0m\n\u001b[0m\u001b[0;32m    562\u001b[0m         \u001b[1;32mif\u001b[0m \u001b[0mself\u001b[0m\u001b[1;33m.\u001b[0m\u001b[0m_pin_memory\u001b[0m\u001b[1;33m:\u001b[0m\u001b[1;33m\u001b[0m\u001b[1;33m\u001b[0m\u001b[0m\n\u001b[0;32m    563\u001b[0m             \u001b[0mdata\u001b[0m \u001b[1;33m=\u001b[0m \u001b[0m_utils\u001b[0m\u001b[1;33m.\u001b[0m\u001b[0mpin_memory\u001b[0m\u001b[1;33m.\u001b[0m\u001b[0mpin_memory\u001b[0m\u001b[1;33m(\u001b[0m\u001b[0mdata\u001b[0m\u001b[1;33m)\u001b[0m\u001b[1;33m\u001b[0m\u001b[1;33m\u001b[0m\u001b[0m\n",
      "\u001b[1;32mc:\\users\\admin\\appdata\\local\\programs\\python\\python36\\lib\\site-packages\\torch\\utils\\data\\_utils\\fetch.py\u001b[0m in \u001b[0;36mfetch\u001b[1;34m(self, possibly_batched_index)\u001b[0m\n\u001b[0;32m     47\u001b[0m     \u001b[1;32mdef\u001b[0m \u001b[0mfetch\u001b[0m\u001b[1;33m(\u001b[0m\u001b[0mself\u001b[0m\u001b[1;33m,\u001b[0m \u001b[0mpossibly_batched_index\u001b[0m\u001b[1;33m)\u001b[0m\u001b[1;33m:\u001b[0m\u001b[1;33m\u001b[0m\u001b[1;33m\u001b[0m\u001b[0m\n\u001b[0;32m     48\u001b[0m         \u001b[1;32mif\u001b[0m \u001b[0mself\u001b[0m\u001b[1;33m.\u001b[0m\u001b[0mauto_collation\u001b[0m\u001b[1;33m:\u001b[0m\u001b[1;33m\u001b[0m\u001b[1;33m\u001b[0m\u001b[0m\n\u001b[1;32m---> 49\u001b[1;33m             \u001b[0mdata\u001b[0m \u001b[1;33m=\u001b[0m \u001b[1;33m[\u001b[0m\u001b[0mself\u001b[0m\u001b[1;33m.\u001b[0m\u001b[0mdataset\u001b[0m\u001b[1;33m[\u001b[0m\u001b[0midx\u001b[0m\u001b[1;33m]\u001b[0m \u001b[1;32mfor\u001b[0m \u001b[0midx\u001b[0m \u001b[1;32min\u001b[0m \u001b[0mpossibly_batched_index\u001b[0m\u001b[1;33m]\u001b[0m\u001b[1;33m\u001b[0m\u001b[1;33m\u001b[0m\u001b[0m\n\u001b[0m\u001b[0;32m     50\u001b[0m         \u001b[1;32melse\u001b[0m\u001b[1;33m:\u001b[0m\u001b[1;33m\u001b[0m\u001b[1;33m\u001b[0m\u001b[0m\n\u001b[0;32m     51\u001b[0m             \u001b[0mdata\u001b[0m \u001b[1;33m=\u001b[0m \u001b[0mself\u001b[0m\u001b[1;33m.\u001b[0m\u001b[0mdataset\u001b[0m\u001b[1;33m[\u001b[0m\u001b[0mpossibly_batched_index\u001b[0m\u001b[1;33m]\u001b[0m\u001b[1;33m\u001b[0m\u001b[1;33m\u001b[0m\u001b[0m\n",
      "\u001b[1;32mc:\\users\\admin\\appdata\\local\\programs\\python\\python36\\lib\\site-packages\\torch\\utils\\data\\_utils\\fetch.py\u001b[0m in \u001b[0;36m<listcomp>\u001b[1;34m(.0)\u001b[0m\n\u001b[0;32m     47\u001b[0m     \u001b[1;32mdef\u001b[0m \u001b[0mfetch\u001b[0m\u001b[1;33m(\u001b[0m\u001b[0mself\u001b[0m\u001b[1;33m,\u001b[0m \u001b[0mpossibly_batched_index\u001b[0m\u001b[1;33m)\u001b[0m\u001b[1;33m:\u001b[0m\u001b[1;33m\u001b[0m\u001b[1;33m\u001b[0m\u001b[0m\n\u001b[0;32m     48\u001b[0m         \u001b[1;32mif\u001b[0m \u001b[0mself\u001b[0m\u001b[1;33m.\u001b[0m\u001b[0mauto_collation\u001b[0m\u001b[1;33m:\u001b[0m\u001b[1;33m\u001b[0m\u001b[1;33m\u001b[0m\u001b[0m\n\u001b[1;32m---> 49\u001b[1;33m             \u001b[0mdata\u001b[0m \u001b[1;33m=\u001b[0m \u001b[1;33m[\u001b[0m\u001b[0mself\u001b[0m\u001b[1;33m.\u001b[0m\u001b[0mdataset\u001b[0m\u001b[1;33m[\u001b[0m\u001b[0midx\u001b[0m\u001b[1;33m]\u001b[0m \u001b[1;32mfor\u001b[0m \u001b[0midx\u001b[0m \u001b[1;32min\u001b[0m \u001b[0mpossibly_batched_index\u001b[0m\u001b[1;33m]\u001b[0m\u001b[1;33m\u001b[0m\u001b[1;33m\u001b[0m\u001b[0m\n\u001b[0m\u001b[0;32m     50\u001b[0m         \u001b[1;32melse\u001b[0m\u001b[1;33m:\u001b[0m\u001b[1;33m\u001b[0m\u001b[1;33m\u001b[0m\u001b[0m\n\u001b[0;32m     51\u001b[0m             \u001b[0mdata\u001b[0m \u001b[1;33m=\u001b[0m \u001b[0mself\u001b[0m\u001b[1;33m.\u001b[0m\u001b[0mdataset\u001b[0m\u001b[1;33m[\u001b[0m\u001b[0mpossibly_batched_index\u001b[0m\u001b[1;33m]\u001b[0m\u001b[1;33m\u001b[0m\u001b[1;33m\u001b[0m\u001b[0m\n",
      "\u001b[1;32m<ipython-input-13-0248605718e6>\u001b[0m in \u001b[0;36m__getitem__\u001b[1;34m(self, idx)\u001b[0m\n\u001b[0;32m     11\u001b[0m     \u001b[1;32mdef\u001b[0m \u001b[0m__getitem__\u001b[0m\u001b[1;33m(\u001b[0m\u001b[0mself\u001b[0m\u001b[1;33m,\u001b[0m \u001b[0midx\u001b[0m\u001b[1;33m)\u001b[0m\u001b[1;33m:\u001b[0m\u001b[1;33m\u001b[0m\u001b[1;33m\u001b[0m\u001b[0m\n\u001b[0;32m     12\u001b[0m         \u001b[0mtarget\u001b[0m \u001b[1;33m=\u001b[0m \u001b[0mself\u001b[0m\u001b[1;33m.\u001b[0m\u001b[0mdf\u001b[0m\u001b[1;33m.\u001b[0m\u001b[0miloc\u001b[0m\u001b[1;33m[\u001b[0m\u001b[0midx\u001b[0m\u001b[1;33m]\u001b[0m\u001b[1;33m.\u001b[0m\u001b[0mclass_id\u001b[0m\u001b[1;33m\u001b[0m\u001b[1;33m\u001b[0m\u001b[0m\n\u001b[1;32m---> 13\u001b[1;33m         \u001b[0mimage\u001b[0m \u001b[1;33m=\u001b[0m \u001b[0mcv2\u001b[0m\u001b[1;33m.\u001b[0m\u001b[0mimread\u001b[0m\u001b[1;33m(\u001b[0m\u001b[0mos\u001b[0m\u001b[1;33m.\u001b[0m\u001b[0mpath\u001b[0m\u001b[1;33m.\u001b[0m\u001b[0mjoin\u001b[0m\u001b[1;33m(\u001b[0m\u001b[0mself\u001b[0m\u001b[1;33m.\u001b[0m\u001b[0mroot_dir\u001b[0m\u001b[1;33m,\u001b[0m \u001b[0mself\u001b[0m\u001b[1;33m.\u001b[0m\u001b[0mdf\u001b[0m\u001b[1;33m.\u001b[0m\u001b[0miloc\u001b[0m\u001b[1;33m[\u001b[0m\u001b[0midx\u001b[0m\u001b[1;33m]\u001b[0m\u001b[1;33m.\u001b[0m\u001b[0mimage\u001b[0m\u001b[1;33m)\u001b[0m\u001b[1;33m)\u001b[0m\u001b[1;33m\u001b[0m\u001b[1;33m\u001b[0m\u001b[0m\n\u001b[0m\u001b[0;32m     14\u001b[0m         \u001b[1;32mif\u001b[0m \u001b[0mself\u001b[0m\u001b[1;33m.\u001b[0m\u001b[0mtransform\u001b[0m \u001b[1;32mis\u001b[0m \u001b[1;32mnot\u001b[0m \u001b[1;32mNone\u001b[0m\u001b[1;33m:\u001b[0m\u001b[1;33m\u001b[0m\u001b[1;33m\u001b[0m\u001b[0m\n\u001b[0;32m     15\u001b[0m             \u001b[0mimage\u001b[0m \u001b[1;33m=\u001b[0m \u001b[0mself\u001b[0m\u001b[1;33m.\u001b[0m\u001b[0mtransform\u001b[0m\u001b[1;33m(\u001b[0m\u001b[0mimage\u001b[0m\u001b[1;33m=\u001b[0m\u001b[0mimage\u001b[0m\u001b[1;33m)\u001b[0m\u001b[1;33m[\u001b[0m\u001b[1;34m\"image\"\u001b[0m\u001b[1;33m]\u001b[0m\u001b[1;33m\u001b[0m\u001b[1;33m\u001b[0m\u001b[0m\n",
      "\u001b[1;31mKeyboardInterrupt\u001b[0m: "
     ]
    }
   ],
   "source": [
    "model.cuda()\n",
    "model.eval()\n",
    "p_reds = []\n",
    "t_arget = []\n",
    "for X,y in tqdm(test_loader):\n",
    "        pred = model(torch.tensor(X).to(device))\n",
    "        t_arget.append(y.detach().cpu().numpy())\n",
    "        top5.append(torch.softmax(pred, dim = 1).detach().cpu().numpy())\n",
    "        p_reds.append(sorted(torch.softmax(pred, dim=1).detach().cpu().numpy().reshape(30,1)))"
   ]
  },
  {
   "cell_type": "code",
   "execution_count": null,
   "id": "e614d58e",
   "metadata": {},
   "outputs": [],
   "source": [
    "from sklearn.metrics import average_precision_score"
   ]
  },
  {
   "cell_type": "code",
   "execution_count": null,
   "id": "f41eba8e",
   "metadata": {},
   "outputs": [],
   "source": [
    "print(np.concatenate(pred_s))\n",
    "print(np.concatenate(target_s))\n"
   ]
  },
  {
   "cell_type": "code",
   "execution_count": 103,
   "id": "507de380",
   "metadata": {},
   "outputs": [],
   "source": [
    "def mAP5(top5, y):\n",
    "    N = 0\n",
    "    Z = 0\n",
    "    hit_list = []\n",
    "    for i in range(len(y)):\n",
    "        if int(y[i]) in top5[i].indices:\n",
    "            hit_list.append((Z+1)/(N+1))\n",
    "            Z+=1\n",
    "        else:\n",
    "            hit_list.append(0/(N+1))\n",
    "        N+=1\n",
    "    return sum(hit_list)/N"
   ]
  },
  {
   "cell_type": "code",
   "execution_count": 104,
   "id": "8c241a3b",
   "metadata": {},
   "outputs": [],
   "source": [
    "def mAP(X, y):\n",
    "    N = 0\n",
    "    Z = 0\n",
    "    hit_list = []\n",
    "    for i in range(len(y)):\n",
    "        if X[i] == y[i]:\n",
    "            hit_list.append((Z+1)/(N+1))\n",
    "            Z+=1\n",
    "        else:\n",
    "            hit_list.append(0/(N+1))\n",
    "        N+=1\n",
    "    return sum(hit_list)/N"
   ]
  },
  {
   "cell_type": "code",
   "execution_count": 100,
   "id": "bf255680",
   "metadata": {},
   "outputs": [],
   "source": [
    "N = 0\n",
    "Z = 0\n",
    "hit_list = []\n",
    "for i in range(50):\n",
    "    if int(target_s[i]) in top_5_preds[i].indices:\n",
    "        hit_list.append((Z+1)/(N+1))\n",
    "        Z+=1\n",
    "    else:\n",
    "        hit_list.append(0/(N+1))\n",
    "    N+=1"
   ]
  },
  {
   "cell_type": "code",
   "execution_count": 139,
   "id": "bbbeb3b8",
   "metadata": {},
   "outputs": [
    {
     "ename": "AttributeError",
     "evalue": "'torch.return_types.topk' object has no attribute 'item'",
     "output_type": "error",
     "traceback": [
      "\u001b[1;31m---------------------------------------------------------------------------\u001b[0m",
      "\u001b[1;31mAttributeError\u001b[0m                            Traceback (most recent call last)",
      "\u001b[1;32m<ipython-input-139-97a7e0204679>\u001b[0m in \u001b[0;36m<module>\u001b[1;34m\u001b[0m\n\u001b[1;32m----> 1\u001b[1;33m \u001b[0mtype\u001b[0m\u001b[1;33m(\u001b[0m\u001b[0mtop_5_preds\u001b[0m\u001b[1;33m[\u001b[0m\u001b[1;36m1\u001b[0m\u001b[1;33m]\u001b[0m\u001b[1;33m.\u001b[0m\u001b[0mitem\u001b[0m\u001b[1;33m(\u001b[0m\u001b[1;33m)\u001b[0m\u001b[1;33m)\u001b[0m\u001b[1;33m\u001b[0m\u001b[1;33m\u001b[0m\u001b[0m\n\u001b[0m",
      "\u001b[1;31mAttributeError\u001b[0m: 'torch.return_types.topk' object has no attribute 'item'"
     ]
    }
   ],
   "source": [
    "type(top_5_preds[1].item())"
   ]
  },
  {
   "cell_type": "code",
   "execution_count": 132,
   "id": "a980e223",
   "metadata": {},
   "outputs": [
    {
     "name": "stdout",
     "output_type": "stream",
     "text": [
      "tensor([0.9621, 2.4651])\n",
      "tensor([0.9541, 0.6222])\n",
      "tensor([0.2820, 0.7552])\n",
      "tensor([ 0.9694, -0.1045])\n",
      "tensor([-0.4733, -1.3888])\n"
     ]
    }
   ],
   "source": [
    "a = torch.randn(5, 2)\n",
    "for i in a:\n",
    "    print(i)"
   ]
  },
  {
   "cell_type": "code",
   "execution_count": null,
   "id": "9d1e1c76",
   "metadata": {},
   "outputs": [],
   "source": [
    "all_pred = []\n",
    "all_target = []\n",
    "for X, y in tqdm(test_loader):\n",
    "    model.cuda()\n",
    "    with torch.no_grad():\n",
    "        pred = model(torch.tensor(X).to(device))\n",
    "        all_pred.append(torch.argmax(pred, dim = 1).detach().cpu().numpy())\n",
    "        all_target.append(y.detach().cpu().numpy())"
   ]
  },
  {
   "cell_type": "code",
   "execution_count": null,
   "id": "58c41dbb",
   "metadata": {},
   "outputs": [],
   "source": [
    "all_pred = np.concatenate(pred_s)\n",
    "all_target = np.concatenate(target_s)"
   ]
  },
  {
   "cell_type": "code",
   "execution_count": null,
   "id": "50a14996",
   "metadata": {},
   "outputs": [],
   "source": [
    "report = classification_report(all_target, all_pred)\n",
    "print(report)"
   ]
  }
 ],
 "metadata": {
  "kernelspec": {
   "display_name": "Python 3",
   "language": "python",
   "name": "python3"
  },
  "language_info": {
   "codemirror_mode": {
    "name": "ipython",
    "version": 3
   },
   "file_extension": ".py",
   "mimetype": "text/x-python",
   "name": "python",
   "nbconvert_exporter": "python",
   "pygments_lexer": "ipython3",
   "version": "3.6.8"
  }
 },
 "nbformat": 4,
 "nbformat_minor": 5
}
